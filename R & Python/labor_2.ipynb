{
 "cells": [
  {
   "cell_type": "markdown",
   "id": "ff34e723",
   "metadata": {},
   "source": [
    "# 한국노동패널(개인용) 23차 데이터 활용하여 분석하기 2"
   ]
  },
  {
   "cell_type": "code",
   "execution_count": 1,
   "id": "07236021",
   "metadata": {},
   "outputs": [],
   "source": [
    "import pandas as pd"
   ]
  },
  {
   "cell_type": "code",
   "execution_count": 2,
   "id": "3872efa8",
   "metadata": {},
   "outputs": [],
   "source": [
    "import numpy as np\n",
    "import seaborn as sns"
   ]
  },
  {
   "cell_type": "code",
   "execution_count": 3,
   "id": "8543254c",
   "metadata": {},
   "outputs": [],
   "source": [
    "# 데이터 불러오기\n",
    "labor = pd.read_csv('labor_220726.csv')"
   ]
  },
  {
   "cell_type": "code",
   "execution_count": 4,
   "id": "468fadcf",
   "metadata": {},
   "outputs": [
    {
     "data": {
      "text/html": [
       "<div>\n",
       "<style scoped>\n",
       "    .dataframe tbody tr th:only-of-type {\n",
       "        vertical-align: middle;\n",
       "    }\n",
       "\n",
       "    .dataframe tbody tr th {\n",
       "        vertical-align: top;\n",
       "    }\n",
       "\n",
       "    .dataframe thead th {\n",
       "        text-align: right;\n",
       "    }\n",
       "</style>\n",
       "<table border=\"1\" class=\"dataframe\">\n",
       "  <thead>\n",
       "    <tr style=\"text-align: right;\">\n",
       "      <th></th>\n",
       "      <th>hhid</th>\n",
       "      <th>pid</th>\n",
       "      <th>wave</th>\n",
       "      <th>year</th>\n",
       "      <th>p_age</th>\n",
       "      <th>p_econstat</th>\n",
       "      <th>p_edu</th>\n",
       "      <th>p_employ_type</th>\n",
       "      <th>p_firm_size</th>\n",
       "      <th>p_hours</th>\n",
       "      <th>...</th>\n",
       "      <th>p_sample18</th>\n",
       "      <th>p_sample98</th>\n",
       "      <th>p_sex</th>\n",
       "      <th>p_wage</th>\n",
       "      <th>p_weight09_c</th>\n",
       "      <th>p_weight09_l</th>\n",
       "      <th>p_weight18_c</th>\n",
       "      <th>p_weight18_l</th>\n",
       "      <th>p_weight98_c</th>\n",
       "      <th>p_weight98_l</th>\n",
       "    </tr>\n",
       "  </thead>\n",
       "  <tbody>\n",
       "    <tr>\n",
       "      <th>count</th>\n",
       "      <td>22964.000000</td>\n",
       "      <td>2.296400e+04</td>\n",
       "      <td>22964.0</td>\n",
       "      <td>22964.0</td>\n",
       "      <td>22964.000000</td>\n",
       "      <td>22964.000000</td>\n",
       "      <td>22961.000000</td>\n",
       "      <td>12464.000000</td>\n",
       "      <td>8000.000000</td>\n",
       "      <td>12429.000000</td>\n",
       "      <td>...</td>\n",
       "      <td>22964.000000</td>\n",
       "      <td>22964.000000</td>\n",
       "      <td>22964.000000</td>\n",
       "      <td>11750.000000</td>\n",
       "      <td>13577.000000</td>\n",
       "      <td>13577.000000</td>\n",
       "      <td>22713.000000</td>\n",
       "      <td>22713.000000</td>\n",
       "      <td>11830.000000</td>\n",
       "      <td>11830.000000</td>\n",
       "    </tr>\n",
       "    <tr>\n",
       "      <th>mean</th>\n",
       "      <td>89712.360913</td>\n",
       "      <td>8.898987e+06</td>\n",
       "      <td>23.0</td>\n",
       "      <td>2020.0</td>\n",
       "      <td>51.935638</td>\n",
       "      <td>1.903893</td>\n",
       "      <td>3.625060</td>\n",
       "      <td>1.332959</td>\n",
       "      <td>2.604250</td>\n",
       "      <td>40.623461</td>\n",
       "      <td>...</td>\n",
       "      <td>1.036231</td>\n",
       "      <td>2.185334</td>\n",
       "      <td>1.528784</td>\n",
       "      <td>277.712681</td>\n",
       "      <td>3350.058261</td>\n",
       "      <td>3350.058262</td>\n",
       "      <td>2002.542200</td>\n",
       "      <td>2002.542201</td>\n",
       "      <td>2842.025671</td>\n",
       "      <td>2842.025673</td>\n",
       "    </tr>\n",
       "    <tr>\n",
       "      <th>std</th>\n",
       "      <td>92552.667578</td>\n",
       "      <td>9.304724e+06</td>\n",
       "      <td>0.0</td>\n",
       "      <td>0.0</td>\n",
       "      <td>18.939084</td>\n",
       "      <td>0.989051</td>\n",
       "      <td>1.607489</td>\n",
       "      <td>0.573158</td>\n",
       "      <td>1.749504</td>\n",
       "      <td>12.320543</td>\n",
       "      <td>...</td>\n",
       "      <td>0.238287</td>\n",
       "      <td>0.866050</td>\n",
       "      <td>0.499182</td>\n",
       "      <td>293.174292</td>\n",
       "      <td>2609.028430</td>\n",
       "      <td>3015.872911</td>\n",
       "      <td>1382.658837</td>\n",
       "      <td>1379.933425</td>\n",
       "      <td>4361.072381</td>\n",
       "      <td>6108.622954</td>\n",
       "    </tr>\n",
       "    <tr>\n",
       "      <th>min</th>\n",
       "      <td>1.000000</td>\n",
       "      <td>1.010000e+02</td>\n",
       "      <td>23.0</td>\n",
       "      <td>2020.0</td>\n",
       "      <td>15.000000</td>\n",
       "      <td>1.000000</td>\n",
       "      <td>1.000000</td>\n",
       "      <td>1.000000</td>\n",
       "      <td>1.000000</td>\n",
       "      <td>1.000000</td>\n",
       "      <td>...</td>\n",
       "      <td>1.000000</td>\n",
       "      <td>1.000000</td>\n",
       "      <td>1.000000</td>\n",
       "      <td>0.000000</td>\n",
       "      <td>0.000000</td>\n",
       "      <td>0.000000</td>\n",
       "      <td>0.000000</td>\n",
       "      <td>0.000000</td>\n",
       "      <td>0.000000</td>\n",
       "      <td>0.000000</td>\n",
       "    </tr>\n",
       "    <tr>\n",
       "      <th>25%</th>\n",
       "      <td>4197.000000</td>\n",
       "      <td>3.020270e+05</td>\n",
       "      <td>23.0</td>\n",
       "      <td>2020.0</td>\n",
       "      <td>38.000000</td>\n",
       "      <td>1.000000</td>\n",
       "      <td>2.000000</td>\n",
       "      <td>1.000000</td>\n",
       "      <td>1.000000</td>\n",
       "      <td>40.000000</td>\n",
       "      <td>...</td>\n",
       "      <td>1.000000</td>\n",
       "      <td>1.000000</td>\n",
       "      <td>1.000000</td>\n",
       "      <td>160.000000</td>\n",
       "      <td>1692.962500</td>\n",
       "      <td>1599.886500</td>\n",
       "      <td>1130.418600</td>\n",
       "      <td>1150.560900</td>\n",
       "      <td>682.876098</td>\n",
       "      <td>65.883747</td>\n",
       "    </tr>\n",
       "    <tr>\n",
       "      <th>50%</th>\n",
       "      <td>9607.500000</td>\n",
       "      <td>8.581020e+05</td>\n",
       "      <td>23.0</td>\n",
       "      <td>2020.0</td>\n",
       "      <td>52.000000</td>\n",
       "      <td>1.000000</td>\n",
       "      <td>3.000000</td>\n",
       "      <td>1.000000</td>\n",
       "      <td>2.000000</td>\n",
       "      <td>40.000000</td>\n",
       "      <td>...</td>\n",
       "      <td>1.000000</td>\n",
       "      <td>2.000000</td>\n",
       "      <td>2.000000</td>\n",
       "      <td>240.000000</td>\n",
       "      <td>2707.364500</td>\n",
       "      <td>2706.050800</td>\n",
       "      <td>1736.112800</td>\n",
       "      <td>1745.724700</td>\n",
       "      <td>2042.248400</td>\n",
       "      <td>1941.268800</td>\n",
       "    </tr>\n",
       "    <tr>\n",
       "      <th>75%</th>\n",
       "      <td>201644.250000</td>\n",
       "      <td>2.016243e+07</td>\n",
       "      <td>23.0</td>\n",
       "      <td>2020.0</td>\n",
       "      <td>67.000000</td>\n",
       "      <td>3.000000</td>\n",
       "      <td>5.000000</td>\n",
       "      <td>2.000000</td>\n",
       "      <td>4.000000</td>\n",
       "      <td>45.000000</td>\n",
       "      <td>...</td>\n",
       "      <td>1.000000</td>\n",
       "      <td>3.000000</td>\n",
       "      <td>2.000000</td>\n",
       "      <td>350.000000</td>\n",
       "      <td>4244.525400</td>\n",
       "      <td>4297.854500</td>\n",
       "      <td>2448.215800</td>\n",
       "      <td>2419.772500</td>\n",
       "      <td>3382.387775</td>\n",
       "      <td>3210.390650</td>\n",
       "    </tr>\n",
       "    <tr>\n",
       "      <th>max</th>\n",
       "      <td>210102.000000</td>\n",
       "      <td>2.101010e+07</td>\n",
       "      <td>23.0</td>\n",
       "      <td>2020.0</td>\n",
       "      <td>104.000000</td>\n",
       "      <td>3.000000</td>\n",
       "      <td>6.000000</td>\n",
       "      <td>3.000000</td>\n",
       "      <td>6.000000</td>\n",
       "      <td>126.000000</td>\n",
       "      <td>...</td>\n",
       "      <td>3.000000</td>\n",
       "      <td>3.000000</td>\n",
       "      <td>2.000000</td>\n",
       "      <td>20000.000000</td>\n",
       "      <td>43607.246000</td>\n",
       "      <td>71219.008000</td>\n",
       "      <td>25715.316000</td>\n",
       "      <td>27858.195000</td>\n",
       "      <td>115841.100000</td>\n",
       "      <td>257781.640000</td>\n",
       "    </tr>\n",
       "  </tbody>\n",
       "</table>\n",
       "<p>8 rows × 33 columns</p>\n",
       "</div>"
      ],
      "text/plain": [
       "                hhid           pid     wave     year         p_age  \\\n",
       "count   22964.000000  2.296400e+04  22964.0  22964.0  22964.000000   \n",
       "mean    89712.360913  8.898987e+06     23.0   2020.0     51.935638   \n",
       "std     92552.667578  9.304724e+06      0.0      0.0     18.939084   \n",
       "min         1.000000  1.010000e+02     23.0   2020.0     15.000000   \n",
       "25%      4197.000000  3.020270e+05     23.0   2020.0     38.000000   \n",
       "50%      9607.500000  8.581020e+05     23.0   2020.0     52.000000   \n",
       "75%    201644.250000  2.016243e+07     23.0   2020.0     67.000000   \n",
       "max    210102.000000  2.101010e+07     23.0   2020.0    104.000000   \n",
       "\n",
       "         p_econstat         p_edu  p_employ_type  p_firm_size       p_hours  \\\n",
       "count  22964.000000  22961.000000   12464.000000  8000.000000  12429.000000   \n",
       "mean       1.903893      3.625060       1.332959     2.604250     40.623461   \n",
       "std        0.989051      1.607489       0.573158     1.749504     12.320543   \n",
       "min        1.000000      1.000000       1.000000     1.000000      1.000000   \n",
       "25%        1.000000      2.000000       1.000000     1.000000     40.000000   \n",
       "50%        1.000000      3.000000       1.000000     2.000000     40.000000   \n",
       "75%        3.000000      5.000000       2.000000     4.000000     45.000000   \n",
       "max        3.000000      6.000000       3.000000     6.000000    126.000000   \n",
       "\n",
       "       ...    p_sample18    p_sample98         p_sex        p_wage  \\\n",
       "count  ...  22964.000000  22964.000000  22964.000000  11750.000000   \n",
       "mean   ...      1.036231      2.185334      1.528784    277.712681   \n",
       "std    ...      0.238287      0.866050      0.499182    293.174292   \n",
       "min    ...      1.000000      1.000000      1.000000      0.000000   \n",
       "25%    ...      1.000000      1.000000      1.000000    160.000000   \n",
       "50%    ...      1.000000      2.000000      2.000000    240.000000   \n",
       "75%    ...      1.000000      3.000000      2.000000    350.000000   \n",
       "max    ...      3.000000      3.000000      2.000000  20000.000000   \n",
       "\n",
       "       p_weight09_c  p_weight09_l  p_weight18_c  p_weight18_l   p_weight98_c  \\\n",
       "count  13577.000000  13577.000000  22713.000000  22713.000000   11830.000000   \n",
       "mean    3350.058261   3350.058262   2002.542200   2002.542201    2842.025671   \n",
       "std     2609.028430   3015.872911   1382.658837   1379.933425    4361.072381   \n",
       "min        0.000000      0.000000      0.000000      0.000000       0.000000   \n",
       "25%     1692.962500   1599.886500   1130.418600   1150.560900     682.876098   \n",
       "50%     2707.364500   2706.050800   1736.112800   1745.724700    2042.248400   \n",
       "75%     4244.525400   4297.854500   2448.215800   2419.772500    3382.387775   \n",
       "max    43607.246000  71219.008000  25715.316000  27858.195000  115841.100000   \n",
       "\n",
       "        p_weight98_l  \n",
       "count   11830.000000  \n",
       "mean     2842.025673  \n",
       "std      6108.622954  \n",
       "min         0.000000  \n",
       "25%        65.883747  \n",
       "50%      1941.268800  \n",
       "75%      3210.390650  \n",
       "max    257781.640000  \n",
       "\n",
       "[8 rows x 33 columns]"
      ]
     },
     "execution_count": 4,
     "metadata": {},
     "output_type": "execute_result"
    }
   ],
   "source": [
    "labor.describe() # 요약 통계량"
   ]
  },
  {
   "cell_type": "code",
   "execution_count": 5,
   "id": "87c5fa2a",
   "metadata": {},
   "outputs": [
    {
     "name": "stdout",
     "output_type": "stream",
     "text": [
      "<class 'pandas.core.frame.DataFrame'>\n",
      "RangeIndex: 22964 entries, 0 to 22963\n",
      "Data columns (total 34 columns):\n",
      " #   Column         Non-Null Count  Dtype  \n",
      "---  ------         --------------  -----  \n",
      " 0   hhid           22964 non-null  int64  \n",
      " 1   pid            22964 non-null  int64  \n",
      " 2   wave           22964 non-null  int64  \n",
      " 3   year           22964 non-null  int64  \n",
      " 4   p_age          22964 non-null  int64  \n",
      " 5   p_econstat     22964 non-null  int64  \n",
      " 6   p_edu          22961 non-null  float64\n",
      " 7   p_employ_type  12464 non-null  float64\n",
      " 8   p_firm_size    8000 non-null   float64\n",
      " 9   p_hours        12429 non-null  float64\n",
      " 10  p_ind2000      12410 non-null  float64\n",
      " 11  p_ind2007      12410 non-null  float64\n",
      " 12  p_ind2017      12410 non-null  float64\n",
      " 13  p_job_begin    12346 non-null  object \n",
      " 14  p_job_status   12436 non-null  float64\n",
      " 15  p_jobfam2000   12423 non-null  float64\n",
      " 16  p_jobfam2007   12327 non-null  float64\n",
      " 17  p_jobfam2017   12324 non-null  float64\n",
      " 18  p_jobtype      12436 non-null  float64\n",
      " 19  p_married      22964 non-null  int64  \n",
      " 20  p_region       22964 non-null  int64  \n",
      " 21  p_rel          22964 non-null  int64  \n",
      " 22  p_religion     22956 non-null  float64\n",
      " 23  p_sample09     22964 non-null  int64  \n",
      " 24  p_sample18     22964 non-null  int64  \n",
      " 25  p_sample98     22964 non-null  int64  \n",
      " 26  p_sex          22964 non-null  int64  \n",
      " 27  p_wage         11750 non-null  float64\n",
      " 28  p_weight09_c   13577 non-null  float64\n",
      " 29  p_weight09_l   13577 non-null  float64\n",
      " 30  p_weight18_c   22713 non-null  float64\n",
      " 31  p_weight18_l   22713 non-null  float64\n",
      " 32  p_weight98_c   11830 non-null  float64\n",
      " 33  p_weight98_l   11830 non-null  float64\n",
      "dtypes: float64(20), int64(13), object(1)\n",
      "memory usage: 6.0+ MB\n"
     ]
    }
   ],
   "source": [
    "labor.info()"
   ]
  },
  {
   "cell_type": "code",
   "execution_count": 6,
   "id": "cd7b7110",
   "metadata": {},
   "outputs": [],
   "source": [
    "# 변수 이름 바꾸기\n",
    "labor = labor.rename(\n",
    "    columns = {'p_sex' : 'sex',\n",
    "               'p_age' : 'age',\n",
    "               'p_married': 'marriage_type',\n",
    "               'p_religion': 'religion',\n",
    "               'p_wage' : 'income',\n",
    "               'p_jobfam2017': 'code_job',\n",
    "               'p_region': 'code_region'})"
   ]
  },
  {
   "cell_type": "markdown",
   "id": "8663d231",
   "metadata": {},
   "source": [
    "## 1. 연령대에 따른 월급차이 "
   ]
  },
  {
   "cell_type": "markdown",
   "id": "c60af730",
   "metadata": {},
   "source": [
    "### 1) 연령대 만들기"
   ]
  },
  {
   "cell_type": "code",
   "execution_count": 7,
   "id": "69219119",
   "metadata": {},
   "outputs": [
    {
     "data": {
      "text/plain": [
       "0    79\n",
       "1    52\n",
       "2    69\n",
       "3    66\n",
       "4    41\n",
       "Name: age, dtype: int64"
      ]
     },
     "execution_count": 7,
     "metadata": {},
     "output_type": "execute_result"
    }
   ],
   "source": [
    "labor['age'].head() "
   ]
  },
  {
   "cell_type": "code",
   "execution_count": 8,
   "id": "7f191625",
   "metadata": {},
   "outputs": [],
   "source": [
    "# 연령대 변수 만들기\n",
    "labor = labor.assign(age_class =np.where(labor['age'] < 30, 'young', np.where(labor['age'] <= 59, 'middle', 'old')))"
   ]
  },
  {
   "cell_type": "code",
   "execution_count": 9,
   "id": "1c4cf6e6",
   "metadata": {},
   "outputs": [
    {
     "data": {
      "text/plain": [
       "middle    11002\n",
       "old        8628\n",
       "young      3334\n",
       "Name: age_class, dtype: int64"
      ]
     },
     "execution_count": 9,
     "metadata": {},
     "output_type": "execute_result"
    }
   ],
   "source": [
    "labor['age_class'].value_counts() # 빈도 구하기"
   ]
  },
  {
   "cell_type": "code",
   "execution_count": 10,
   "id": "cd16d94e",
   "metadata": {},
   "outputs": [
    {
     "data": {
      "text/plain": [
       "<AxesSubplot:xlabel='age_class', ylabel='count'>"
      ]
     },
     "execution_count": 10,
     "metadata": {},
     "output_type": "execute_result"
    },
    {
     "data": {
      "image/png": "[encoded data removed]",
      "text/plain": [
       "<Figure size 432x288 with 1 Axes>"
      ]
     },
     "metadata": {
      "needs_background": "light"
     },
     "output_type": "display_data"
    }
   ],
   "source": [
    "sns.countplot(data = labor, x = 'age_class') # 빈도 막대 그래프"
   ]
  },
  {
   "cell_type": "markdown",
   "id": "fb2ce7fd",
   "metadata": {},
   "source": [
    "### 2) 연령대에 따른 월급"
   ]
  },
  {
   "cell_type": "code",
   "execution_count": 11,
   "id": "28a492a5",
   "metadata": {},
   "outputs": [],
   "source": [
    "# 연령대별 월급평균 표\n",
    "age_class_income = labor.dropna(subset = ['income']).groupby('age_class', as_index = False).agg(mean_income = ('income', 'mean'))"
   ]
  },
  {
   "cell_type": "code",
   "execution_count": 12,
   "id": "dbaba9f4",
   "metadata": {},
   "outputs": [
    {
     "data": {
      "text/html": [
       "<div>\n",
       "<style scoped>\n",
       "    .dataframe tbody tr th:only-of-type {\n",
       "        vertical-align: middle;\n",
       "    }\n",
       "\n",
       "    .dataframe tbody tr th {\n",
       "        vertical-align: top;\n",
       "    }\n",
       "\n",
       "    .dataframe thead th {\n",
       "        text-align: right;\n",
       "    }\n",
       "</style>\n",
       "<table border=\"1\" class=\"dataframe\">\n",
       "  <thead>\n",
       "    <tr style=\"text-align: right;\">\n",
       "      <th></th>\n",
       "      <th>age_class</th>\n",
       "      <th>mean_income</th>\n",
       "    </tr>\n",
       "  </thead>\n",
       "  <tbody>\n",
       "    <tr>\n",
       "      <th>0</th>\n",
       "      <td>middle</td>\n",
       "      <td>325.541822</td>\n",
       "    </tr>\n",
       "    <tr>\n",
       "      <th>1</th>\n",
       "      <td>old</td>\n",
       "      <td>174.258655</td>\n",
       "    </tr>\n",
       "    <tr>\n",
       "      <th>2</th>\n",
       "      <td>young</td>\n",
       "      <td>213.872274</td>\n",
       "    </tr>\n",
       "  </tbody>\n",
       "</table>\n",
       "</div>"
      ],
      "text/plain": [
       "  age_class  mean_income\n",
       "0    middle   325.541822\n",
       "1       old   174.258655\n",
       "2     young   213.872274"
      ]
     },
     "execution_count": 12,
     "metadata": {},
     "output_type": "execute_result"
    }
   ],
   "source": [
    "age_class_income"
   ]
  },
  {
   "cell_type": "code",
   "execution_count": 13,
   "id": "d909144e",
   "metadata": {},
   "outputs": [
    {
     "data": {
      "text/plain": [
       "<AxesSubplot:xlabel='age_class', ylabel='mean_income'>"
      ]
     },
     "execution_count": 13,
     "metadata": {},
     "output_type": "execute_result"
    },
    {
     "data": {
      "image/png": "[encoded data removed]",
      "text/plain": [
       "<Figure size 432x288 with 1 Axes>"
      ]
     },
     "metadata": {
      "needs_background": "light"
     },
     "output_type": "display_data"
    }
   ],
   "source": [
    "sns.barplot(data = age_class_income, x='age_class', y='mean_income')"
   ]
  },
  {
   "cell_type": "code",
   "execution_count": 20,
   "id": "7571a7aa",
   "metadata": {},
   "outputs": [
    {
     "data": {
      "text/plain": [
       "<AxesSubplot:xlabel='age_class', ylabel='mean_income'>"
      ]
     },
     "execution_count": 20,
     "metadata": {},
     "output_type": "execute_result"
    },
    {
     "data": {
      "image/png": "[encoded data removed]",
      "text/plain": [
       "<Figure size 432x288 with 1 Axes>"
      ]
     },
     "metadata": {
      "needs_background": "light"
     },
     "output_type": "display_data"
    }
   ],
   "source": [
    "# 막대 정렬\n",
    "sns.barplot(data = age_class_income, x='age_class', y='mean_income', order = ['young', 'middle', 'old'])"
   ]
  },
  {
   "cell_type": "markdown",
   "id": "f6d422ee",
   "metadata": {},
   "source": [
    "## 2. 연령대 및 성별 월급 차이 "
   ]
  },
  {
   "cell_type": "markdown",
   "id": "17ed2642",
   "metadata": {},
   "source": [
    "### 1) 연령대별, 성별 월급 "
   ]
  },
  {
   "cell_type": "code",
   "execution_count": 14,
   "id": "d950f2f5",
   "metadata": {},
   "outputs": [],
   "source": [
    "# 성별 항목 이름 부여\n",
    "labor['sex']=np.where(labor['sex'] ==1, 'male', 'female')"
   ]
  },
  {
   "cell_type": "code",
   "execution_count": 15,
   "id": "f1187aec",
   "metadata": {},
   "outputs": [],
   "source": [
    "# 연령대 및 성별 월급 평균표\n",
    "\n",
    "sex_income= labor.dropna(subset=['income']).groupby(['age_class', 'sex'], as_index = False).agg(mean_income = ('income', 'mean'))"
   ]
  },
  {
   "cell_type": "code",
   "execution_count": 16,
   "id": "f50ecec0",
   "metadata": {},
   "outputs": [
    {
     "data": {
      "text/html": [
       "<div>\n",
       "<style scoped>\n",
       "    .dataframe tbody tr th:only-of-type {\n",
       "        vertical-align: middle;\n",
       "    }\n",
       "\n",
       "    .dataframe tbody tr th {\n",
       "        vertical-align: top;\n",
       "    }\n",
       "\n",
       "    .dataframe thead th {\n",
       "        text-align: right;\n",
       "    }\n",
       "</style>\n",
       "<table border=\"1\" class=\"dataframe\">\n",
       "  <thead>\n",
       "    <tr style=\"text-align: right;\">\n",
       "      <th></th>\n",
       "      <th>age_class</th>\n",
       "      <th>sex</th>\n",
       "      <th>mean_income</th>\n",
       "    </tr>\n",
       "  </thead>\n",
       "  <tbody>\n",
       "    <tr>\n",
       "      <th>0</th>\n",
       "      <td>middle</td>\n",
       "      <td>female</td>\n",
       "      <td>230.053320</td>\n",
       "    </tr>\n",
       "    <tr>\n",
       "      <th>1</th>\n",
       "      <td>middle</td>\n",
       "      <td>male</td>\n",
       "      <td>384.851698</td>\n",
       "    </tr>\n",
       "    <tr>\n",
       "      <th>2</th>\n",
       "      <td>old</td>\n",
       "      <td>female</td>\n",
       "      <td>117.043975</td>\n",
       "    </tr>\n",
       "    <tr>\n",
       "      <th>3</th>\n",
       "      <td>old</td>\n",
       "      <td>male</td>\n",
       "      <td>209.102303</td>\n",
       "    </tr>\n",
       "    <tr>\n",
       "      <th>4</th>\n",
       "      <td>young</td>\n",
       "      <td>female</td>\n",
       "      <td>200.184307</td>\n",
       "    </tr>\n",
       "    <tr>\n",
       "      <th>5</th>\n",
       "      <td>young</td>\n",
       "      <td>male</td>\n",
       "      <td>231.946988</td>\n",
       "    </tr>\n",
       "  </tbody>\n",
       "</table>\n",
       "</div>"
      ],
      "text/plain": [
       "  age_class     sex  mean_income\n",
       "0    middle  female   230.053320\n",
       "1    middle    male   384.851698\n",
       "2       old  female   117.043975\n",
       "3       old    male   209.102303\n",
       "4     young  female   200.184307\n",
       "5     young    male   231.946988"
      ]
     },
     "execution_count": 16,
     "metadata": {},
     "output_type": "execute_result"
    }
   ],
   "source": [
    "sex_income"
   ]
  },
  {
   "cell_type": "code",
   "execution_count": 17,
   "id": "8d565131",
   "metadata": {},
   "outputs": [
    {
     "data": {
      "text/plain": [
       "0    female\n",
       "1      male\n",
       "2      male\n",
       "3    female\n",
       "4    female\n",
       "Name: sex, dtype: object"
      ]
     },
     "execution_count": 17,
     "metadata": {},
     "output_type": "execute_result"
    }
   ],
   "source": [
    "labor['sex'].head()"
   ]
  },
  {
   "cell_type": "code",
   "execution_count": 18,
   "id": "f93cb11c",
   "metadata": {},
   "outputs": [
    {
     "data": {
      "text/plain": [
       "<AxesSubplot:xlabel='age_class', ylabel='mean_income'>"
      ]
     },
     "execution_count": 18,
     "metadata": {},
     "output_type": "execute_result"
    },
    {
     "data": {
      "image/png": "[encoded data removed]",
      "text/plain": [
       "<Figure size 432x288 with 1 Axes>"
      ]
     },
     "metadata": {
      "needs_background": "light"
     },
     "output_type": "display_data"
    }
   ],
   "source": [
    "sns.barplot(data=sex_income, x='age_class', y ='mean_income', hue = 'sex', order = ['young', 'middle', 'old'])"
   ]
  },
  {
   "cell_type": "markdown",
   "id": "04caad06",
   "metadata": {},
   "source": [
    "### 2) 나이별, 성별 월급"
   ]
  },
  {
   "cell_type": "code",
   "execution_count": 19,
   "id": "74cdc4aa",
   "metadata": {},
   "outputs": [],
   "source": [
    "sex_age_income = labor.dropna(subset=['income']).groupby(['age', 'sex'], as_index = False).agg(mean_income = ('income', 'mean'))"
   ]
  },
  {
   "cell_type": "code",
   "execution_count": 20,
   "id": "b1bfa8dd",
   "metadata": {},
   "outputs": [
    {
     "data": {
      "text/html": [
       "<div>\n",
       "<style scoped>\n",
       "    .dataframe tbody tr th:only-of-type {\n",
       "        vertical-align: middle;\n",
       "    }\n",
       "\n",
       "    .dataframe tbody tr th {\n",
       "        vertical-align: top;\n",
       "    }\n",
       "\n",
       "    .dataframe thead th {\n",
       "        text-align: right;\n",
       "    }\n",
       "</style>\n",
       "<table border=\"1\" class=\"dataframe\">\n",
       "  <thead>\n",
       "    <tr style=\"text-align: right;\">\n",
       "      <th></th>\n",
       "      <th>age</th>\n",
       "      <th>sex</th>\n",
       "      <th>mean_income</th>\n",
       "    </tr>\n",
       "  </thead>\n",
       "  <tbody>\n",
       "    <tr>\n",
       "      <th>0</th>\n",
       "      <td>17</td>\n",
       "      <td>female</td>\n",
       "      <td>55.000000</td>\n",
       "    </tr>\n",
       "    <tr>\n",
       "      <th>1</th>\n",
       "      <td>17</td>\n",
       "      <td>male</td>\n",
       "      <td>60.000000</td>\n",
       "    </tr>\n",
       "    <tr>\n",
       "      <th>2</th>\n",
       "      <td>18</td>\n",
       "      <td>female</td>\n",
       "      <td>130.000000</td>\n",
       "    </tr>\n",
       "    <tr>\n",
       "      <th>3</th>\n",
       "      <td>19</td>\n",
       "      <td>female</td>\n",
       "      <td>117.461538</td>\n",
       "    </tr>\n",
       "    <tr>\n",
       "      <th>4</th>\n",
       "      <td>19</td>\n",
       "      <td>male</td>\n",
       "      <td>132.750000</td>\n",
       "    </tr>\n",
       "  </tbody>\n",
       "</table>\n",
       "</div>"
      ],
      "text/plain": [
       "   age     sex  mean_income\n",
       "0   17  female    55.000000\n",
       "1   17    male    60.000000\n",
       "2   18  female   130.000000\n",
       "3   19  female   117.461538\n",
       "4   19    male   132.750000"
      ]
     },
     "execution_count": 20,
     "metadata": {},
     "output_type": "execute_result"
    }
   ],
   "source": [
    "sex_age_income.head()"
   ]
  },
  {
   "cell_type": "code",
   "execution_count": 21,
   "id": "afc0e580",
   "metadata": {},
   "outputs": [
    {
     "data": {
      "text/plain": [
       "<AxesSubplot:xlabel='age', ylabel='mean_income'>"
      ]
     },
     "execution_count": 21,
     "metadata": {},
     "output_type": "execute_result"
    },
    {
     "data": {
      "image/png": "[encoded data removed]",
      "text/plain": [
       "<Figure size 432x288 with 1 Axes>"
      ]
     },
     "metadata": {
      "needs_background": "light"
     },
     "output_type": "display_data"
    }
   ],
   "source": [
    "sns.lineplot(data = sex_age_income, x='age', y='mean_income', hue='sex')"
   ]
  },
  {
   "cell_type": "markdown",
   "id": "e54b97e8",
   "metadata": {},
   "source": [
    "## 3. 직업별 월급"
   ]
  },
  {
   "cell_type": "markdown",
   "id": "5e7464e2",
   "metadata": {},
   "source": [
    "### 1) 직업 코드 불러오기"
   ]
  },
  {
   "cell_type": "code",
   "execution_count": 23,
   "id": "3f796ba8",
   "metadata": {},
   "outputs": [
    {
     "data": {
      "text/plain": [
       "dtype('float64')"
      ]
     },
     "execution_count": 23,
     "metadata": {},
     "output_type": "execute_result"
    }
   ],
   "source": [
    "labor['code_job'].dtypes"
   ]
  },
  {
   "cell_type": "code",
   "execution_count": 24,
   "id": "818ad49c",
   "metadata": {},
   "outputs": [
    {
     "data": {
      "text/plain": [
       "312.0    1010\n",
       "521.0     836\n",
       "611.0     822\n",
       "941.0     533\n",
       "441.0     438\n",
       "         ... \n",
       "872.0       1\n",
       "310.0       1\n",
       "159.0       1\n",
       "289.0       1\n",
       "876.0       1\n",
       "Name: code_job, Length: 151, dtype: int64"
      ]
     },
     "execution_count": 24,
     "metadata": {},
     "output_type": "execute_result"
    }
   ],
   "source": [
    "labor['code_job'].value_counts() "
   ]
  },
  {
   "cell_type": "code",
   "execution_count": 36,
   "id": "0a6e9944",
   "metadata": {},
   "outputs": [],
   "source": [
    "list_job = pd.read_excel('code_job.xlsx')"
   ]
  },
  {
   "cell_type": "code",
   "execution_count": 37,
   "id": "ab85d0ad",
   "metadata": {},
   "outputs": [
    {
     "data": {
      "text/html": [
       "<div>\n",
       "<style scoped>\n",
       "    .dataframe tbody tr th:only-of-type {\n",
       "        vertical-align: middle;\n",
       "    }\n",
       "\n",
       "    .dataframe tbody tr th {\n",
       "        vertical-align: top;\n",
       "    }\n",
       "\n",
       "    .dataframe thead th {\n",
       "        text-align: right;\n",
       "    }\n",
       "</style>\n",
       "<table border=\"1\" class=\"dataframe\">\n",
       "  <thead>\n",
       "    <tr style=\"text-align: right;\">\n",
       "      <th></th>\n",
       "      <th>코드번호</th>\n",
       "      <th>직업</th>\n",
       "      <th>대분류 코드</th>\n",
       "      <th>대분류 직업명</th>\n",
       "      <th>중분류 코드</th>\n",
       "      <th>중분류 직업명</th>\n",
       "      <th>code_job</th>\n",
       "      <th>job</th>\n",
       "    </tr>\n",
       "  </thead>\n",
       "  <tbody>\n",
       "    <tr>\n",
       "      <th>0</th>\n",
       "      <td>1</td>\n",
       "      <td>관리자</td>\n",
       "      <td>1.0</td>\n",
       "      <td>관리자</td>\n",
       "      <td>11.0</td>\n",
       "      <td>공공 기관 및 기업 고위직</td>\n",
       "      <td>111.0</td>\n",
       "      <td>의회 의원·고위 공무원 및 공공단체 임원</td>\n",
       "    </tr>\n",
       "    <tr>\n",
       "      <th>1</th>\n",
       "      <td>11</td>\n",
       "      <td>공공 기관 및 기업 고위직</td>\n",
       "      <td>2.0</td>\n",
       "      <td>전문가 및 관련 종사자</td>\n",
       "      <td>12.0</td>\n",
       "      <td>행정·경영 지원 및 마케팅 관리직</td>\n",
       "      <td>112.0</td>\n",
       "      <td>기업 고위 임원</td>\n",
       "    </tr>\n",
       "    <tr>\n",
       "      <th>2</th>\n",
       "      <td>111</td>\n",
       "      <td>의회 의원·고위 공무원 및 공공단체 임원</td>\n",
       "      <td>3.0</td>\n",
       "      <td>사무 종사자</td>\n",
       "      <td>13.0</td>\n",
       "      <td>전문 서비스 관리직</td>\n",
       "      <td>121.0</td>\n",
       "      <td>행정 및 경영 지원 관리자</td>\n",
       "    </tr>\n",
       "    <tr>\n",
       "      <th>3</th>\n",
       "      <td>112</td>\n",
       "      <td>기업 고위 임원</td>\n",
       "      <td>4.0</td>\n",
       "      <td>서비스 종사자</td>\n",
       "      <td>14.0</td>\n",
       "      <td>건설·전기 및 생산 관련 관리직</td>\n",
       "      <td>122.0</td>\n",
       "      <td>마케팅 및 광고·홍보 관리자</td>\n",
       "    </tr>\n",
       "    <tr>\n",
       "      <th>4</th>\n",
       "      <td>12</td>\n",
       "      <td>행정·경영 지원 및 마케팅 관리직</td>\n",
       "      <td>5.0</td>\n",
       "      <td>판매 종사자</td>\n",
       "      <td>15.0</td>\n",
       "      <td>판매 및 고객 서비스 관리직</td>\n",
       "      <td>131.0</td>\n",
       "      <td>연구·교육 및 법률 관련 관리자</td>\n",
       "    </tr>\n",
       "  </tbody>\n",
       "</table>\n",
       "</div>"
      ],
      "text/plain": [
       "   코드번호                      직업  대분류 코드       대분류 직업명  중분류 코드  \\\n",
       "0     1                     관리자     1.0           관리자    11.0   \n",
       "1    11          공공 기관 및 기업 고위직     2.0  전문가 및 관련 종사자    12.0   \n",
       "2   111  의회 의원·고위 공무원 및 공공단체 임원     3.0        사무 종사자    13.0   \n",
       "3   112                기업 고위 임원     4.0       서비스 종사자    14.0   \n",
       "4    12      행정·경영 지원 및 마케팅 관리직     5.0        판매 종사자    15.0   \n",
       "\n",
       "              중분류 직업명  code_job                     job  \n",
       "0      공공 기관 및 기업 고위직     111.0  의회 의원·고위 공무원 및 공공단체 임원  \n",
       "1  행정·경영 지원 및 마케팅 관리직     112.0                기업 고위 임원  \n",
       "2          전문 서비스 관리직     121.0          행정 및 경영 지원 관리자  \n",
       "3   건설·전기 및 생산 관련 관리직     122.0         마케팅 및 광고·홍보 관리자  \n",
       "4     판매 및 고객 서비스 관리직     131.0       연구·교육 및 법률 관련 관리자  "
      ]
     },
     "execution_count": 37,
     "metadata": {},
     "output_type": "execute_result"
    }
   ],
   "source": [
    "list_job.head()"
   ]
  },
  {
   "cell_type": "code",
   "execution_count": 38,
   "id": "471dc377",
   "metadata": {},
   "outputs": [],
   "source": [
    "list_job_core = list_job.drop(list_job.columns[[0,1,2, 3,4, 5]], axis=1)"
   ]
  },
  {
   "cell_type": "code",
   "execution_count": 39,
   "id": "78324c24",
   "metadata": {},
   "outputs": [
    {
     "data": {
      "text/html": [
       "<div>\n",
       "<style scoped>\n",
       "    .dataframe tbody tr th:only-of-type {\n",
       "        vertical-align: middle;\n",
       "    }\n",
       "\n",
       "    .dataframe tbody tr th {\n",
       "        vertical-align: top;\n",
       "    }\n",
       "\n",
       "    .dataframe thead th {\n",
       "        text-align: right;\n",
       "    }\n",
       "</style>\n",
       "<table border=\"1\" class=\"dataframe\">\n",
       "  <thead>\n",
       "    <tr style=\"text-align: right;\">\n",
       "      <th></th>\n",
       "      <th>code_job</th>\n",
       "      <th>job</th>\n",
       "    </tr>\n",
       "  </thead>\n",
       "  <tbody>\n",
       "    <tr>\n",
       "      <th>0</th>\n",
       "      <td>111.0</td>\n",
       "      <td>의회 의원·고위 공무원 및 공공단체 임원</td>\n",
       "    </tr>\n",
       "    <tr>\n",
       "      <th>1</th>\n",
       "      <td>112.0</td>\n",
       "      <td>기업 고위 임원</td>\n",
       "    </tr>\n",
       "    <tr>\n",
       "      <th>2</th>\n",
       "      <td>121.0</td>\n",
       "      <td>행정 및 경영 지원 관리자</td>\n",
       "    </tr>\n",
       "    <tr>\n",
       "      <th>3</th>\n",
       "      <td>122.0</td>\n",
       "      <td>마케팅 및 광고·홍보 관리자</td>\n",
       "    </tr>\n",
       "    <tr>\n",
       "      <th>4</th>\n",
       "      <td>131.0</td>\n",
       "      <td>연구·교육 및 법률 관련 관리자</td>\n",
       "    </tr>\n",
       "  </tbody>\n",
       "</table>\n",
       "</div>"
      ],
      "text/plain": [
       "   code_job                     job\n",
       "0     111.0  의회 의원·고위 공무원 및 공공단체 임원\n",
       "1     112.0                기업 고위 임원\n",
       "2     121.0          행정 및 경영 지원 관리자\n",
       "3     122.0         마케팅 및 광고·홍보 관리자\n",
       "4     131.0       연구·교육 및 법률 관련 관리자"
      ]
     },
     "execution_count": 39,
     "metadata": {},
     "output_type": "execute_result"
    }
   ],
   "source": [
    "list_job_core.head()"
   ]
  },
  {
   "cell_type": "code",
   "execution_count": 40,
   "id": "3c16531d",
   "metadata": {},
   "outputs": [
    {
     "data": {
      "text/plain": [
       "(268, 2)"
      ]
     },
     "execution_count": 40,
     "metadata": {},
     "output_type": "execute_result"
    }
   ],
   "source": [
    "list_job_core.shape "
   ]
  },
  {
   "cell_type": "markdown",
   "id": "527e578a",
   "metadata": {},
   "source": [
    "### 2) 직업코드와 결합"
   ]
  },
  {
   "cell_type": "code",
   "execution_count": 41,
   "id": "fa1a6f99",
   "metadata": {},
   "outputs": [],
   "source": [
    "labor = labor.merge(list_job_core, how='left', on='code_job')"
   ]
  },
  {
   "cell_type": "code",
   "execution_count": 47,
   "id": "4d6fb661",
   "metadata": {},
   "outputs": [
    {
     "data": {
      "text/html": [
       "<div>\n",
       "<style scoped>\n",
       "    .dataframe tbody tr th:only-of-type {\n",
       "        vertical-align: middle;\n",
       "    }\n",
       "\n",
       "    .dataframe tbody tr th {\n",
       "        vertical-align: top;\n",
       "    }\n",
       "\n",
       "    .dataframe thead th {\n",
       "        text-align: right;\n",
       "    }\n",
       "</style>\n",
       "<table border=\"1\" class=\"dataframe\">\n",
       "  <thead>\n",
       "    <tr style=\"text-align: right;\">\n",
       "      <th></th>\n",
       "      <th>code_job</th>\n",
       "      <th>job</th>\n",
       "    </tr>\n",
       "  </thead>\n",
       "  <tbody>\n",
       "    <tr>\n",
       "      <th>84</th>\n",
       "      <td>762.0</td>\n",
       "      <td>전기공</td>\n",
       "    </tr>\n",
       "    <tr>\n",
       "      <th>85</th>\n",
       "      <td>941.0</td>\n",
       "      <td>청소원 및 환경미화원</td>\n",
       "    </tr>\n",
       "    <tr>\n",
       "      <th>86</th>\n",
       "      <td>941.0</td>\n",
       "      <td>청소원 및 환경미화원</td>\n",
       "    </tr>\n",
       "    <tr>\n",
       "      <th>171</th>\n",
       "      <td>223.0</td>\n",
       "      <td>데이터 및 네트워크 관련 전문가</td>\n",
       "    </tr>\n",
       "    <tr>\n",
       "      <th>256</th>\n",
       "      <td>941.0</td>\n",
       "      <td>청소원 및 환경미화원</td>\n",
       "    </tr>\n",
       "  </tbody>\n",
       "</table>\n",
       "</div>"
      ],
      "text/plain": [
       "     code_job                job\n",
       "84      762.0                전기공\n",
       "85      941.0        청소원 및 환경미화원\n",
       "86      941.0        청소원 및 환경미화원\n",
       "171     223.0  데이터 및 네트워크 관련 전문가\n",
       "256     941.0        청소원 및 환경미화원"
      ]
     },
     "execution_count": 47,
     "metadata": {},
     "output_type": "execute_result"
    }
   ],
   "source": [
    "# code_job 결측치 제거하고 출력\n",
    "labor.dropna(subset = ['code_job'])[['code_job', 'job']].head()"
   ]
  },
  {
   "cell_type": "markdown",
   "id": "b60e718e",
   "metadata": {},
   "source": [
    "### 3) 직업별 월급"
   ]
  },
  {
   "cell_type": "code",
   "execution_count": 49,
   "id": "303578a7",
   "metadata": {},
   "outputs": [],
   "source": [
    "job_income = labor.dropna(subset=['job', 'income']).groupby('job', as_index=False).agg(mean_income=('income', 'mean'))"
   ]
  },
  {
   "cell_type": "code",
   "execution_count": 50,
   "id": "d8b125ef",
   "metadata": {},
   "outputs": [
    {
     "data": {
      "text/html": [
       "<div>\n",
       "<style scoped>\n",
       "    .dataframe tbody tr th:only-of-type {\n",
       "        vertical-align: middle;\n",
       "    }\n",
       "\n",
       "    .dataframe tbody tr th {\n",
       "        vertical-align: top;\n",
       "    }\n",
       "\n",
       "    .dataframe thead th {\n",
       "        text-align: right;\n",
       "    }\n",
       "</style>\n",
       "<table border=\"1\" class=\"dataframe\">\n",
       "  <thead>\n",
       "    <tr style=\"text-align: right;\">\n",
       "      <th></th>\n",
       "      <th>job</th>\n",
       "      <th>mean_income</th>\n",
       "    </tr>\n",
       "  </thead>\n",
       "  <tbody>\n",
       "    <tr>\n",
       "      <th>0</th>\n",
       "      <td>가사 및 육아 도우미</td>\n",
       "      <td>97.611111</td>\n",
       "    </tr>\n",
       "    <tr>\n",
       "      <th>1</th>\n",
       "      <td>간호사</td>\n",
       "      <td>277.135338</td>\n",
       "    </tr>\n",
       "    <tr>\n",
       "      <th>2</th>\n",
       "      <td>감정·기술 영업 및 중개 관련 종사자</td>\n",
       "      <td>345.456522</td>\n",
       "    </tr>\n",
       "    <tr>\n",
       "      <th>3</th>\n",
       "      <td>건물 관리원 및 검표원</td>\n",
       "      <td>177.234177</td>\n",
       "    </tr>\n",
       "    <tr>\n",
       "      <th>4</th>\n",
       "      <td>건설 관련 기능 종사자</td>\n",
       "      <td>275.981818</td>\n",
       "    </tr>\n",
       "  </tbody>\n",
       "</table>\n",
       "</div>"
      ],
      "text/plain": [
       "                    job  mean_income\n",
       "0           가사 및 육아 도우미    97.611111\n",
       "1                   간호사   277.135338\n",
       "2  감정·기술 영업 및 중개 관련 종사자   345.456522\n",
       "3          건물 관리원 및 검표원   177.234177\n",
       "4          건설 관련 기능 종사자   275.981818"
      ]
     },
     "execution_count": 50,
     "metadata": {},
     "output_type": "execute_result"
    }
   ],
   "source": [
    "job_income.head()"
   ]
  },
  {
   "cell_type": "code",
   "execution_count": 51,
   "id": "0af31be6",
   "metadata": {},
   "outputs": [],
   "source": [
    "# 상위 10개 추출\n",
    "top10 = job_income.sort_values('mean_income', ascending=False).head(10)"
   ]
  },
  {
   "cell_type": "code",
   "execution_count": 52,
   "id": "69093c73",
   "metadata": {},
   "outputs": [
    {
     "data": {
      "text/html": [
       "<div>\n",
       "<style scoped>\n",
       "    .dataframe tbody tr th:only-of-type {\n",
       "        vertical-align: middle;\n",
       "    }\n",
       "\n",
       "    .dataframe tbody tr th {\n",
       "        vertical-align: top;\n",
       "    }\n",
       "\n",
       "    .dataframe thead th {\n",
       "        text-align: right;\n",
       "    }\n",
       "</style>\n",
       "<table border=\"1\" class=\"dataframe\">\n",
       "  <thead>\n",
       "    <tr style=\"text-align: right;\">\n",
       "      <th></th>\n",
       "      <th>job</th>\n",
       "      <th>mean_income</th>\n",
       "    </tr>\n",
       "  </thead>\n",
       "  <tbody>\n",
       "    <tr>\n",
       "      <th>95</th>\n",
       "      <td>의료 진료 전문가</td>\n",
       "      <td>779.166667</td>\n",
       "    </tr>\n",
       "    <tr>\n",
       "      <th>21</th>\n",
       "      <td>금융 및 보험 전문가</td>\n",
       "      <td>684.708333</td>\n",
       "    </tr>\n",
       "    <tr>\n",
       "      <th>58</th>\n",
       "      <td>보험 및 금융 관리자</td>\n",
       "      <td>668.111111</td>\n",
       "    </tr>\n",
       "    <tr>\n",
       "      <th>122</th>\n",
       "      <td>채굴 및 토목 관련 기능 종사자</td>\n",
       "      <td>662.500000</td>\n",
       "    </tr>\n",
       "    <tr>\n",
       "      <th>106</th>\n",
       "      <td>재활용 처리 및 소각로 조작원</td>\n",
       "      <td>653.400000</td>\n",
       "    </tr>\n",
       "    <tr>\n",
       "      <th>109</th>\n",
       "      <td>전기·전자 부품 및 제품 조립원</td>\n",
       "      <td>630.181818</td>\n",
       "    </tr>\n",
       "    <tr>\n",
       "      <th>134</th>\n",
       "      <td>판매 및 운송 관리자</td>\n",
       "      <td>629.166667</td>\n",
       "    </tr>\n",
       "    <tr>\n",
       "      <th>16</th>\n",
       "      <td>고객 서비스 관리자</td>\n",
       "      <td>625.000000</td>\n",
       "    </tr>\n",
       "    <tr>\n",
       "      <th>55</th>\n",
       "      <td>법률 전문가</td>\n",
       "      <td>620.625000</td>\n",
       "    </tr>\n",
       "    <tr>\n",
       "      <th>139</th>\n",
       "      <td>행정 및 경영 지원 관리자</td>\n",
       "      <td>615.833333</td>\n",
       "    </tr>\n",
       "  </tbody>\n",
       "</table>\n",
       "</div>"
      ],
      "text/plain": [
       "                   job  mean_income\n",
       "95           의료 진료 전문가   779.166667\n",
       "21         금융 및 보험 전문가   684.708333\n",
       "58         보험 및 금융 관리자   668.111111\n",
       "122  채굴 및 토목 관련 기능 종사자   662.500000\n",
       "106   재활용 처리 및 소각로 조작원   653.400000\n",
       "109  전기·전자 부품 및 제품 조립원   630.181818\n",
       "134        판매 및 운송 관리자   629.166667\n",
       "16          고객 서비스 관리자   625.000000\n",
       "55              법률 전문가   620.625000\n",
       "139     행정 및 경영 지원 관리자   615.833333"
      ]
     },
     "execution_count": 52,
     "metadata": {},
     "output_type": "execute_result"
    }
   ],
   "source": [
    "top10"
   ]
  },
  {
   "cell_type": "code",
   "execution_count": 54,
   "id": "e96f6812",
   "metadata": {},
   "outputs": [],
   "source": [
    "# 맑은 고딕 폰트 설정\n",
    "import matplotlib.pyplot as plt"
   ]
  },
  {
   "cell_type": "code",
   "execution_count": 56,
   "id": "44fea899",
   "metadata": {},
   "outputs": [],
   "source": [
    "plt.rcParams.update({'font.family': 'Malgun Gothic'})"
   ]
  },
  {
   "cell_type": "code",
   "execution_count": 58,
   "id": "8d54ac92",
   "metadata": {},
   "outputs": [
    {
     "data": {
      "text/plain": [
       "<AxesSubplot:xlabel='mean_income', ylabel='job'>"
      ]
     },
     "execution_count": 58,
     "metadata": {},
     "output_type": "execute_result"
    },
    {
     "data": {
      "image/png": "[encoded data removed]",
      "text/plain": [
       "<Figure size 432x288 with 1 Axes>"
      ]
     },
     "metadata": {
      "needs_background": "light"
     },
     "output_type": "display_data"
    }
   ],
   "source": [
    "sns.barplot(data= top10, y='job', x='mean_income')"
   ]
  },
  {
   "cell_type": "code",
   "execution_count": 59,
   "id": "931fdb2e",
   "metadata": {},
   "outputs": [],
   "source": [
    "# 하위 10개\n",
    "bottom10 = job_income.sort_values('mean_income').head(10)"
   ]
  },
  {
   "cell_type": "code",
   "execution_count": 60,
   "id": "39bb6821",
   "metadata": {},
   "outputs": [
    {
     "data": {
      "text/html": [
       "<div>\n",
       "<style scoped>\n",
       "    .dataframe tbody tr th:only-of-type {\n",
       "        vertical-align: middle;\n",
       "    }\n",
       "\n",
       "    .dataframe tbody tr th {\n",
       "        vertical-align: top;\n",
       "    }\n",
       "\n",
       "    .dataframe thead th {\n",
       "        text-align: right;\n",
       "    }\n",
       "</style>\n",
       "<table border=\"1\" class=\"dataframe\">\n",
       "  <thead>\n",
       "    <tr style=\"text-align: right;\">\n",
       "      <th></th>\n",
       "      <th>job</th>\n",
       "      <th>mean_income</th>\n",
       "    </tr>\n",
       "  </thead>\n",
       "  <tbody>\n",
       "    <tr>\n",
       "      <th>0</th>\n",
       "      <td>가사 및 육아 도우미</td>\n",
       "      <td>97.611111</td>\n",
       "    </tr>\n",
       "    <tr>\n",
       "      <th>35</th>\n",
       "      <td>농림·어업 관련 단순 종사자</td>\n",
       "      <td>105.166667</td>\n",
       "    </tr>\n",
       "    <tr>\n",
       "      <th>125</th>\n",
       "      <td>청소원 및 환경미화원</td>\n",
       "      <td>110.865759</td>\n",
       "    </tr>\n",
       "    <tr>\n",
       "      <th>96</th>\n",
       "      <td>의복 제조 관련 기능 종사자</td>\n",
       "      <td>116.736842</td>\n",
       "    </tr>\n",
       "    <tr>\n",
       "      <th>94</th>\n",
       "      <td>음식 관련 단순 종사자</td>\n",
       "      <td>117.699187</td>\n",
       "    </tr>\n",
       "    <tr>\n",
       "      <th>30</th>\n",
       "      <td>기타 돌봄·보건 및 개인 생활 서비스 종사자</td>\n",
       "      <td>125.739583</td>\n",
       "    </tr>\n",
       "    <tr>\n",
       "      <th>50</th>\n",
       "      <td>방문 및 노점 판매 관련직</td>\n",
       "      <td>130.568627</td>\n",
       "    </tr>\n",
       "    <tr>\n",
       "      <th>39</th>\n",
       "      <td>돌봄 및 보건 서비스 종사자</td>\n",
       "      <td>131.496528</td>\n",
       "    </tr>\n",
       "    <tr>\n",
       "      <th>105</th>\n",
       "      <td>작물 재배 종사자</td>\n",
       "      <td>134.265193</td>\n",
       "    </tr>\n",
       "    <tr>\n",
       "      <th>100</th>\n",
       "      <td>임업 관련 종사자</td>\n",
       "      <td>157.500000</td>\n",
       "    </tr>\n",
       "  </tbody>\n",
       "</table>\n",
       "</div>"
      ],
      "text/plain": [
       "                          job  mean_income\n",
       "0                 가사 및 육아 도우미    97.611111\n",
       "35            농림·어업 관련 단순 종사자   105.166667\n",
       "125               청소원 및 환경미화원   110.865759\n",
       "96            의복 제조 관련 기능 종사자   116.736842\n",
       "94               음식 관련 단순 종사자   117.699187\n",
       "30   기타 돌봄·보건 및 개인 생활 서비스 종사자   125.739583\n",
       "50             방문 및 노점 판매 관련직   130.568627\n",
       "39            돌봄 및 보건 서비스 종사자   131.496528\n",
       "105                 작물 재배 종사자   134.265193\n",
       "100                 임업 관련 종사자   157.500000"
      ]
     },
     "execution_count": 60,
     "metadata": {},
     "output_type": "execute_result"
    }
   ],
   "source": [
    "bottom10"
   ]
  },
  {
   "cell_type": "code",
   "execution_count": 61,
   "id": "3942cf1b",
   "metadata": {},
   "outputs": [
    {
     "data": {
      "text/plain": [
       "[(0.0, 800.0)]"
      ]
     },
     "execution_count": 61,
     "metadata": {},
     "output_type": "execute_result"
    },
    {
     "data": {
      "image/png": "[encoded data removed]",
      "text/plain": [
       "<Figure size 432x288 with 1 Axes>"
      ]
     },
     "metadata": {
      "needs_background": "light"
     },
     "output_type": "display_data"
    }
   ],
   "source": [
    "sns.barplot(data = bottom10, y='job', x='mean_income').set(xlim=(0,800))"
   ]
  },
  {
   "cell_type": "markdown",
   "id": "0dc82118",
   "metadata": {},
   "source": [
    "## 4. 성별 직업 빈도"
   ]
  },
  {
   "cell_type": "code",
   "execution_count": 62,
   "id": "1e38f4d3",
   "metadata": {},
   "outputs": [],
   "source": [
    "# 남성 직업 빈도 상위 10개\n",
    "job_male = labor.dropna(subset=['job']).query('sex ==\"male\"').groupby('job', as_index = False).agg(n=('job', 'count'))\\\n",
    "                .sort_values('n', ascending=False).head(10)"
   ]
  },
  {
   "cell_type": "code",
   "execution_count": 63,
   "id": "e8bc22a0",
   "metadata": {},
   "outputs": [
    {
     "data": {
      "text/html": [
       "<div>\n",
       "<style scoped>\n",
       "    .dataframe tbody tr th:only-of-type {\n",
       "        vertical-align: middle;\n",
       "    }\n",
       "\n",
       "    .dataframe tbody tr th {\n",
       "        vertical-align: top;\n",
       "    }\n",
       "\n",
       "    .dataframe thead th {\n",
       "        text-align: right;\n",
       "    }\n",
       "</style>\n",
       "<table border=\"1\" class=\"dataframe\">\n",
       "  <thead>\n",
       "    <tr style=\"text-align: right;\">\n",
       "      <th></th>\n",
       "      <th>job</th>\n",
       "      <th>n</th>\n",
       "    </tr>\n",
       "  </thead>\n",
       "  <tbody>\n",
       "    <tr>\n",
       "      <th>10</th>\n",
       "      <td>경영 관련 사무원</td>\n",
       "      <td>709</td>\n",
       "    </tr>\n",
       "    <tr>\n",
       "      <th>5</th>\n",
       "      <td>건설 및 채굴기계 운전원</td>\n",
       "      <td>516</td>\n",
       "    </tr>\n",
       "    <tr>\n",
       "      <th>102</th>\n",
       "      <td>작물 재배 종사자</td>\n",
       "      <td>467</td>\n",
       "    </tr>\n",
       "    <tr>\n",
       "      <th>40</th>\n",
       "      <td>매장 판매 종사자</td>\n",
       "      <td>387</td>\n",
       "    </tr>\n",
       "    <tr>\n",
       "      <th>84</th>\n",
       "      <td>영업 종사자</td>\n",
       "      <td>302</td>\n",
       "    </tr>\n",
       "    <tr>\n",
       "      <th>99</th>\n",
       "      <td>자동차 운전원</td>\n",
       "      <td>283</td>\n",
       "    </tr>\n",
       "    <tr>\n",
       "      <th>52</th>\n",
       "      <td>배달원</td>\n",
       "      <td>176</td>\n",
       "    </tr>\n",
       "    <tr>\n",
       "      <th>122</th>\n",
       "      <td>청소원 및 환경미화원</td>\n",
       "      <td>162</td>\n",
       "    </tr>\n",
       "    <tr>\n",
       "      <th>3</th>\n",
       "      <td>건설 관련 기능 종사자</td>\n",
       "      <td>161</td>\n",
       "    </tr>\n",
       "    <tr>\n",
       "      <th>8</th>\n",
       "      <td>건축 마감 관련 기능 종사자</td>\n",
       "      <td>159</td>\n",
       "    </tr>\n",
       "  </tbody>\n",
       "</table>\n",
       "</div>"
      ],
      "text/plain": [
       "                 job    n\n",
       "10         경영 관련 사무원  709\n",
       "5      건설 및 채굴기계 운전원  516\n",
       "102        작물 재배 종사자  467\n",
       "40         매장 판매 종사자  387\n",
       "84            영업 종사자  302\n",
       "99           자동차 운전원  283\n",
       "52               배달원  176\n",
       "122      청소원 및 환경미화원  162\n",
       "3       건설 관련 기능 종사자  161\n",
       "8    건축 마감 관련 기능 종사자  159"
      ]
     },
     "execution_count": 63,
     "metadata": {},
     "output_type": "execute_result"
    }
   ],
   "source": [
    "job_male"
   ]
  },
  {
   "cell_type": "code",
   "execution_count": 64,
   "id": "f98ec4b0",
   "metadata": {},
   "outputs": [],
   "source": [
    "# 여성 직업 빈도 상위 10개\n",
    "job_female = labor.dropna(subset=['job']).query('sex== \"female\"').groupby('job', as_index =False).agg(n=('job', 'count'))\\\n",
    "                  .sort_values('n', ascending=False).head(10)"
   ]
  },
  {
   "cell_type": "code",
   "execution_count": 65,
   "id": "ed255130",
   "metadata": {},
   "outputs": [
    {
     "data": {
      "text/html": [
       "<div>\n",
       "<style scoped>\n",
       "    .dataframe tbody tr th:only-of-type {\n",
       "        vertical-align: middle;\n",
       "    }\n",
       "\n",
       "    .dataframe tbody tr th {\n",
       "        vertical-align: top;\n",
       "    }\n",
       "\n",
       "    .dataframe thead th {\n",
       "        text-align: right;\n",
       "    }\n",
       "</style>\n",
       "<table border=\"1\" class=\"dataframe\">\n",
       "  <thead>\n",
       "    <tr style=\"text-align: right;\">\n",
       "      <th></th>\n",
       "      <th>job</th>\n",
       "      <th>n</th>\n",
       "    </tr>\n",
       "  </thead>\n",
       "  <tbody>\n",
       "    <tr>\n",
       "      <th>34</th>\n",
       "      <td>돌봄 및 보건 서비스 종사자</td>\n",
       "      <td>807</td>\n",
       "    </tr>\n",
       "    <tr>\n",
       "      <th>36</th>\n",
       "      <td>매장 판매 종사자</td>\n",
       "      <td>449</td>\n",
       "    </tr>\n",
       "    <tr>\n",
       "      <th>105</th>\n",
       "      <td>청소원 및 환경미화원</td>\n",
       "      <td>371</td>\n",
       "    </tr>\n",
       "    <tr>\n",
       "      <th>90</th>\n",
       "      <td>작물 재배 종사자</td>\n",
       "      <td>355</td>\n",
       "    </tr>\n",
       "    <tr>\n",
       "      <th>27</th>\n",
       "      <td>기타 돌봄·보건 및 개인 생활 서비스 종사자</td>\n",
       "      <td>332</td>\n",
       "    </tr>\n",
       "    <tr>\n",
       "      <th>100</th>\n",
       "      <td>조리사</td>\n",
       "      <td>324</td>\n",
       "    </tr>\n",
       "    <tr>\n",
       "      <th>10</th>\n",
       "      <td>경영 관련 사무원</td>\n",
       "      <td>301</td>\n",
       "    </tr>\n",
       "    <tr>\n",
       "      <th>124</th>\n",
       "      <td>회계 및 경리 사무원</td>\n",
       "      <td>221</td>\n",
       "    </tr>\n",
       "    <tr>\n",
       "      <th>73</th>\n",
       "      <td>영업 종사자</td>\n",
       "      <td>206</td>\n",
       "    </tr>\n",
       "    <tr>\n",
       "      <th>39</th>\n",
       "      <td>문리·기술 및 예능 강사</td>\n",
       "      <td>204</td>\n",
       "    </tr>\n",
       "  </tbody>\n",
       "</table>\n",
       "</div>"
      ],
      "text/plain": [
       "                          job    n\n",
       "34            돌봄 및 보건 서비스 종사자  807\n",
       "36                  매장 판매 종사자  449\n",
       "105               청소원 및 환경미화원  371\n",
       "90                  작물 재배 종사자  355\n",
       "27   기타 돌봄·보건 및 개인 생활 서비스 종사자  332\n",
       "100                       조리사  324\n",
       "10                  경영 관련 사무원  301\n",
       "124               회계 및 경리 사무원  221\n",
       "73                     영업 종사자  206\n",
       "39              문리·기술 및 예능 강사  204"
      ]
     },
     "execution_count": 65,
     "metadata": {},
     "output_type": "execute_result"
    }
   ],
   "source": [
    "job_female"
   ]
  },
  {
   "cell_type": "code",
   "execution_count": 66,
   "id": "82982ca6",
   "metadata": {},
   "outputs": [
    {
     "data": {
      "text/plain": [
       "[(0.0, 500.0)]"
      ]
     },
     "execution_count": 66,
     "metadata": {},
     "output_type": "execute_result"
    },
    {
     "data": {
      "image/png": "[encoded data removed]",
      "text/plain": [
       "<Figure size 432x288 with 1 Axes>"
      ]
     },
     "metadata": {
      "needs_background": "light"
     },
     "output_type": "display_data"
    }
   ],
   "source": [
    "# 남성 직업 빈도 막대그래프\n",
    "sns.barplot(data = job_male, y='job', x='n').set(xlim=(0,500))"
   ]
  },
  {
   "cell_type": "code",
   "execution_count": 68,
   "id": "a11acd83",
   "metadata": {},
   "outputs": [
    {
     "data": {
      "text/plain": [
       "[(0.0, 500.0)]"
      ]
     },
     "execution_count": 68,
     "metadata": {},
     "output_type": "execute_result"
    },
    {
     "data": {
      "image/png": "[encoded data removed]",
      "text/plain": [
       "<Figure size 432x288 with 1 Axes>"
      ]
     },
     "metadata": {
      "needs_background": "light"
     },
     "output_type": "display_data"
    }
   ],
   "source": [
    "# 여성 직업 빈도 막대그래프\n",
    "sns.barplot(data = job_female, y='job', x='n').set(xlim=(0,500))"
   ]
  }
 ],
 "metadata": {
  "kernelspec": {
   "display_name": "Python 3 (ipykernel)",
   "language": "python",
   "name": "python3"
  },
  "language_info": {
   "codemirror_mode": {
    "name": "ipython",
    "version": 3
   },
   "file_extension": ".py",
   "mimetype": "text/x-python",
   "name": "python",
   "nbconvert_exporter": "python",
   "pygments_lexer": "ipython3",
   "version": "3.9.7"
  }
 },
 "nbformat": 4,
 "nbformat_minor": 5
}
