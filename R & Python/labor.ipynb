{
 "cells": [
  {
   "cell_type": "code",
   "execution_count": 1,
   "id": "07236021",
   "metadata": {},
   "outputs": [],
   "source": [
    "import pandas as pd"
   ]
  },
  {
   "cell_type": "code",
   "execution_count": 2,
   "id": "3872efa8",
   "metadata": {},
   "outputs": [],
   "source": [
    "import numpy as np\n",
    "import seaborn as sns"
   ]
  },
  {
   "cell_type": "code",
   "execution_count": 3,
   "id": "8543254c",
   "metadata": {},
   "outputs": [],
   "source": [
    "labor = pd.read_csv('labor_220726.csv')"
   ]
  },
  {
   "cell_type": "code",
   "execution_count": 4,
   "id": "bd6647f1",
   "metadata": {},
   "outputs": [
    {
     "data": {
      "text/html": [
       "<div>\n",
       "<style scoped>\n",
       "    .dataframe tbody tr th:only-of-type {\n",
       "        vertical-align: middle;\n",
       "    }\n",
       "\n",
       "    .dataframe tbody tr th {\n",
       "        vertical-align: top;\n",
       "    }\n",
       "\n",
       "    .dataframe thead th {\n",
       "        text-align: right;\n",
       "    }\n",
       "</style>\n",
       "<table border=\"1\" class=\"dataframe\">\n",
       "  <thead>\n",
       "    <tr style=\"text-align: right;\">\n",
       "      <th></th>\n",
       "      <th>hhid</th>\n",
       "      <th>pid</th>\n",
       "      <th>wave</th>\n",
       "      <th>year</th>\n",
       "      <th>p_age</th>\n",
       "      <th>p_econstat</th>\n",
       "      <th>p_edu</th>\n",
       "      <th>p_employ_type</th>\n",
       "      <th>p_firm_size</th>\n",
       "      <th>p_hours</th>\n",
       "      <th>...</th>\n",
       "      <th>p_sample18</th>\n",
       "      <th>p_sample98</th>\n",
       "      <th>p_sex</th>\n",
       "      <th>p_wage</th>\n",
       "      <th>p_weight09_c</th>\n",
       "      <th>p_weight09_l</th>\n",
       "      <th>p_weight18_c</th>\n",
       "      <th>p_weight18_l</th>\n",
       "      <th>p_weight98_c</th>\n",
       "      <th>p_weight98_l</th>\n",
       "    </tr>\n",
       "  </thead>\n",
       "  <tbody>\n",
       "    <tr>\n",
       "      <th>0</th>\n",
       "      <td>1</td>\n",
       "      <td>101</td>\n",
       "      <td>23</td>\n",
       "      <td>2020</td>\n",
       "      <td>79</td>\n",
       "      <td>3</td>\n",
       "      <td>2.0</td>\n",
       "      <td>NaN</td>\n",
       "      <td>NaN</td>\n",
       "      <td>NaN</td>\n",
       "      <td>...</td>\n",
       "      <td>2</td>\n",
       "      <td>1</td>\n",
       "      <td>2</td>\n",
       "      <td>NaN</td>\n",
       "      <td>2667.7795</td>\n",
       "      <td>1234.9795</td>\n",
       "      <td>1115.08090</td>\n",
       "      <td>0.0000</td>\n",
       "      <td>2347.81930</td>\n",
       "      <td>2281.38430</td>\n",
       "    </tr>\n",
       "    <tr>\n",
       "      <th>1</th>\n",
       "      <td>1</td>\n",
       "      <td>102</td>\n",
       "      <td>23</td>\n",
       "      <td>2020</td>\n",
       "      <td>52</td>\n",
       "      <td>1</td>\n",
       "      <td>3.0</td>\n",
       "      <td>1.0</td>\n",
       "      <td>2.0</td>\n",
       "      <td>40.0</td>\n",
       "      <td>...</td>\n",
       "      <td>2</td>\n",
       "      <td>1</td>\n",
       "      <td>1</td>\n",
       "      <td>380.0</td>\n",
       "      <td>2734.8757</td>\n",
       "      <td>4626.6772</td>\n",
       "      <td>1171.21970</td>\n",
       "      <td>2500.3066</td>\n",
       "      <td>2347.81930</td>\n",
       "      <td>2414.47900</td>\n",
       "    </tr>\n",
       "    <tr>\n",
       "      <th>2</th>\n",
       "      <td>6034</td>\n",
       "      <td>201</td>\n",
       "      <td>23</td>\n",
       "      <td>2020</td>\n",
       "      <td>69</td>\n",
       "      <td>1</td>\n",
       "      <td>3.0</td>\n",
       "      <td>1.0</td>\n",
       "      <td>2.0</td>\n",
       "      <td>40.0</td>\n",
       "      <td>...</td>\n",
       "      <td>1</td>\n",
       "      <td>2</td>\n",
       "      <td>1</td>\n",
       "      <td>150.0</td>\n",
       "      <td>2429.3152</td>\n",
       "      <td>2731.7363</td>\n",
       "      <td>1288.86390</td>\n",
       "      <td>1332.4055</td>\n",
       "      <td>2917.80930</td>\n",
       "      <td>2917.94920</td>\n",
       "    </tr>\n",
       "    <tr>\n",
       "      <th>3</th>\n",
       "      <td>2</td>\n",
       "      <td>202</td>\n",
       "      <td>23</td>\n",
       "      <td>2020</td>\n",
       "      <td>66</td>\n",
       "      <td>1</td>\n",
       "      <td>3.0</td>\n",
       "      <td>1.0</td>\n",
       "      <td>1.0</td>\n",
       "      <td>35.0</td>\n",
       "      <td>...</td>\n",
       "      <td>1</td>\n",
       "      <td>1</td>\n",
       "      <td>2</td>\n",
       "      <td>120.0</td>\n",
       "      <td>4841.4199</td>\n",
       "      <td>5648.7803</td>\n",
       "      <td>2238.85500</td>\n",
       "      <td>2462.2083</td>\n",
       "      <td>2578.34960</td>\n",
       "      <td>2578.47310</td>\n",
       "    </tr>\n",
       "    <tr>\n",
       "      <th>4</th>\n",
       "      <td>8589</td>\n",
       "      <td>203</td>\n",
       "      <td>23</td>\n",
       "      <td>2020</td>\n",
       "      <td>41</td>\n",
       "      <td>3</td>\n",
       "      <td>5.0</td>\n",
       "      <td>NaN</td>\n",
       "      <td>NaN</td>\n",
       "      <td>NaN</td>\n",
       "      <td>...</td>\n",
       "      <td>1</td>\n",
       "      <td>2</td>\n",
       "      <td>2</td>\n",
       "      <td>NaN</td>\n",
       "      <td>3167.1360</td>\n",
       "      <td>6758.2446</td>\n",
       "      <td>2137.31880</td>\n",
       "      <td>2048.2651</td>\n",
       "      <td>377.78696</td>\n",
       "      <td>755.61011</td>\n",
       "    </tr>\n",
       "    <tr>\n",
       "      <th>...</th>\n",
       "      <td>...</td>\n",
       "      <td>...</td>\n",
       "      <td>...</td>\n",
       "      <td>...</td>\n",
       "      <td>...</td>\n",
       "      <td>...</td>\n",
       "      <td>...</td>\n",
       "      <td>...</td>\n",
       "      <td>...</td>\n",
       "      <td>...</td>\n",
       "      <td>...</td>\n",
       "      <td>...</td>\n",
       "      <td>...</td>\n",
       "      <td>...</td>\n",
       "      <td>...</td>\n",
       "      <td>...</td>\n",
       "      <td>...</td>\n",
       "      <td>...</td>\n",
       "      <td>...</td>\n",
       "      <td>...</td>\n",
       "      <td>...</td>\n",
       "    </tr>\n",
       "    <tr>\n",
       "      <th>22959</th>\n",
       "      <td>210074</td>\n",
       "      <td>21007402</td>\n",
       "      <td>23</td>\n",
       "      <td>2020</td>\n",
       "      <td>32</td>\n",
       "      <td>3</td>\n",
       "      <td>6.0</td>\n",
       "      <td>NaN</td>\n",
       "      <td>NaN</td>\n",
       "      <td>NaN</td>\n",
       "      <td>...</td>\n",
       "      <td>2</td>\n",
       "      <td>3</td>\n",
       "      <td>2</td>\n",
       "      <td>NaN</td>\n",
       "      <td>NaN</td>\n",
       "      <td>NaN</td>\n",
       "      <td>1724.55320</td>\n",
       "      <td>0.0000</td>\n",
       "      <td>NaN</td>\n",
       "      <td>NaN</td>\n",
       "    </tr>\n",
       "    <tr>\n",
       "      <th>22960</th>\n",
       "      <td>210075</td>\n",
       "      <td>21007502</td>\n",
       "      <td>23</td>\n",
       "      <td>2020</td>\n",
       "      <td>23</td>\n",
       "      <td>3</td>\n",
       "      <td>3.0</td>\n",
       "      <td>NaN</td>\n",
       "      <td>NaN</td>\n",
       "      <td>NaN</td>\n",
       "      <td>...</td>\n",
       "      <td>2</td>\n",
       "      <td>3</td>\n",
       "      <td>2</td>\n",
       "      <td>NaN</td>\n",
       "      <td>NaN</td>\n",
       "      <td>NaN</td>\n",
       "      <td>1127.22750</td>\n",
       "      <td>0.0000</td>\n",
       "      <td>NaN</td>\n",
       "      <td>NaN</td>\n",
       "    </tr>\n",
       "    <tr>\n",
       "      <th>22961</th>\n",
       "      <td>210080</td>\n",
       "      <td>21008002</td>\n",
       "      <td>23</td>\n",
       "      <td>2020</td>\n",
       "      <td>32</td>\n",
       "      <td>1</td>\n",
       "      <td>6.0</td>\n",
       "      <td>1.0</td>\n",
       "      <td>4.0</td>\n",
       "      <td>40.0</td>\n",
       "      <td>...</td>\n",
       "      <td>2</td>\n",
       "      <td>3</td>\n",
       "      <td>1</td>\n",
       "      <td>530.0</td>\n",
       "      <td>NaN</td>\n",
       "      <td>NaN</td>\n",
       "      <td>1456.11570</td>\n",
       "      <td>0.0000</td>\n",
       "      <td>NaN</td>\n",
       "      <td>NaN</td>\n",
       "    </tr>\n",
       "    <tr>\n",
       "      <th>22962</th>\n",
       "      <td>210081</td>\n",
       "      <td>21008102</td>\n",
       "      <td>23</td>\n",
       "      <td>2020</td>\n",
       "      <td>41</td>\n",
       "      <td>1</td>\n",
       "      <td>5.0</td>\n",
       "      <td>2.0</td>\n",
       "      <td>1.0</td>\n",
       "      <td>50.0</td>\n",
       "      <td>...</td>\n",
       "      <td>2</td>\n",
       "      <td>3</td>\n",
       "      <td>1</td>\n",
       "      <td>450.0</td>\n",
       "      <td>NaN</td>\n",
       "      <td>NaN</td>\n",
       "      <td>930.78351</td>\n",
       "      <td>0.0000</td>\n",
       "      <td>NaN</td>\n",
       "      <td>NaN</td>\n",
       "    </tr>\n",
       "    <tr>\n",
       "      <th>22963</th>\n",
       "      <td>210101</td>\n",
       "      <td>21010102</td>\n",
       "      <td>23</td>\n",
       "      <td>2020</td>\n",
       "      <td>30</td>\n",
       "      <td>1</td>\n",
       "      <td>6.0</td>\n",
       "      <td>1.0</td>\n",
       "      <td>2.0</td>\n",
       "      <td>40.0</td>\n",
       "      <td>...</td>\n",
       "      <td>2</td>\n",
       "      <td>3</td>\n",
       "      <td>1</td>\n",
       "      <td>150.0</td>\n",
       "      <td>NaN</td>\n",
       "      <td>NaN</td>\n",
       "      <td>2849.59080</td>\n",
       "      <td>0.0000</td>\n",
       "      <td>NaN</td>\n",
       "      <td>NaN</td>\n",
       "    </tr>\n",
       "  </tbody>\n",
       "</table>\n",
       "<p>22964 rows × 34 columns</p>\n",
       "</div>"
      ],
      "text/plain": [
       "         hhid       pid  wave  year  p_age  p_econstat  p_edu  p_employ_type  \\\n",
       "0           1       101    23  2020     79           3    2.0            NaN   \n",
       "1           1       102    23  2020     52           1    3.0            1.0   \n",
       "2        6034       201    23  2020     69           1    3.0            1.0   \n",
       "3           2       202    23  2020     66           1    3.0            1.0   \n",
       "4        8589       203    23  2020     41           3    5.0            NaN   \n",
       "...       ...       ...   ...   ...    ...         ...    ...            ...   \n",
       "22959  210074  21007402    23  2020     32           3    6.0            NaN   \n",
       "22960  210075  21007502    23  2020     23           3    3.0            NaN   \n",
       "22961  210080  21008002    23  2020     32           1    6.0            1.0   \n",
       "22962  210081  21008102    23  2020     41           1    5.0            2.0   \n",
       "22963  210101  21010102    23  2020     30           1    6.0            1.0   \n",
       "\n",
       "       p_firm_size  p_hours  ...  p_sample18  p_sample98  p_sex p_wage  \\\n",
       "0              NaN      NaN  ...           2           1      2    NaN   \n",
       "1              2.0     40.0  ...           2           1      1  380.0   \n",
       "2              2.0     40.0  ...           1           2      1  150.0   \n",
       "3              1.0     35.0  ...           1           1      2  120.0   \n",
       "4              NaN      NaN  ...           1           2      2    NaN   \n",
       "...            ...      ...  ...         ...         ...    ...    ...   \n",
       "22959          NaN      NaN  ...           2           3      2    NaN   \n",
       "22960          NaN      NaN  ...           2           3      2    NaN   \n",
       "22961          4.0     40.0  ...           2           3      1  530.0   \n",
       "22962          1.0     50.0  ...           2           3      1  450.0   \n",
       "22963          2.0     40.0  ...           2           3      1  150.0   \n",
       "\n",
       "       p_weight09_c  p_weight09_l  p_weight18_c  p_weight18_l  p_weight98_c  \\\n",
       "0         2667.7795     1234.9795    1115.08090        0.0000    2347.81930   \n",
       "1         2734.8757     4626.6772    1171.21970     2500.3066    2347.81930   \n",
       "2         2429.3152     2731.7363    1288.86390     1332.4055    2917.80930   \n",
       "3         4841.4199     5648.7803    2238.85500     2462.2083    2578.34960   \n",
       "4         3167.1360     6758.2446    2137.31880     2048.2651     377.78696   \n",
       "...             ...           ...           ...           ...           ...   \n",
       "22959           NaN           NaN    1724.55320        0.0000           NaN   \n",
       "22960           NaN           NaN    1127.22750        0.0000           NaN   \n",
       "22961           NaN           NaN    1456.11570        0.0000           NaN   \n",
       "22962           NaN           NaN     930.78351        0.0000           NaN   \n",
       "22963           NaN           NaN    2849.59080        0.0000           NaN   \n",
       "\n",
       "       p_weight98_l  \n",
       "0        2281.38430  \n",
       "1        2414.47900  \n",
       "2        2917.94920  \n",
       "3        2578.47310  \n",
       "4         755.61011  \n",
       "...             ...  \n",
       "22959           NaN  \n",
       "22960           NaN  \n",
       "22961           NaN  \n",
       "22962           NaN  \n",
       "22963           NaN  \n",
       "\n",
       "[22964 rows x 34 columns]"
      ]
     },
     "execution_count": 4,
     "metadata": {},
     "output_type": "execute_result"
    }
   ],
   "source": [
    "labor"
   ]
  },
  {
   "cell_type": "code",
   "execution_count": 5,
   "id": "eb419017",
   "metadata": {},
   "outputs": [
    {
     "data": {
      "text/plain": [
       "(22964, 34)"
      ]
     },
     "execution_count": 5,
     "metadata": {},
     "output_type": "execute_result"
    }
   ],
   "source": [
    "labor.shape"
   ]
  },
  {
   "cell_type": "code",
   "execution_count": 6,
   "id": "5e6793e2",
   "metadata": {},
   "outputs": [
    {
     "name": "stdout",
     "output_type": "stream",
     "text": [
      "<class 'pandas.core.frame.DataFrame'>\n",
      "RangeIndex: 22964 entries, 0 to 22963\n",
      "Data columns (total 34 columns):\n",
      " #   Column         Non-Null Count  Dtype  \n",
      "---  ------         --------------  -----  \n",
      " 0   hhid           22964 non-null  int64  \n",
      " 1   pid            22964 non-null  int64  \n",
      " 2   wave           22964 non-null  int64  \n",
      " 3   year           22964 non-null  int64  \n",
      " 4   p_age          22964 non-null  int64  \n",
      " 5   p_econstat     22964 non-null  int64  \n",
      " 6   p_edu          22961 non-null  float64\n",
      " 7   p_employ_type  12464 non-null  float64\n",
      " 8   p_firm_size    8000 non-null   float64\n",
      " 9   p_hours        12429 non-null  float64\n",
      " 10  p_ind2000      12410 non-null  float64\n",
      " 11  p_ind2007      12410 non-null  float64\n",
      " 12  p_ind2017      12410 non-null  float64\n",
      " 13  p_job_begin    12346 non-null  object \n",
      " 14  p_job_status   12436 non-null  float64\n",
      " 15  p_jobfam2000   12423 non-null  float64\n",
      " 16  p_jobfam2007   12327 non-null  float64\n",
      " 17  p_jobfam2017   12324 non-null  float64\n",
      " 18  p_jobtype      12436 non-null  float64\n",
      " 19  p_married      22964 non-null  int64  \n",
      " 20  p_region       22964 non-null  int64  \n",
      " 21  p_rel          22964 non-null  int64  \n",
      " 22  p_religion     22956 non-null  float64\n",
      " 23  p_sample09     22964 non-null  int64  \n",
      " 24  p_sample18     22964 non-null  int64  \n",
      " 25  p_sample98     22964 non-null  int64  \n",
      " 26  p_sex          22964 non-null  int64  \n",
      " 27  p_wage         11750 non-null  float64\n",
      " 28  p_weight09_c   13577 non-null  float64\n",
      " 29  p_weight09_l   13577 non-null  float64\n",
      " 30  p_weight18_c   22713 non-null  float64\n",
      " 31  p_weight18_l   22713 non-null  float64\n",
      " 32  p_weight98_c   11830 non-null  float64\n",
      " 33  p_weight98_l   11830 non-null  float64\n",
      "dtypes: float64(20), int64(13), object(1)\n",
      "memory usage: 6.0+ MB\n"
     ]
    }
   ],
   "source": [
    "labor.info()"
   ]
  },
  {
   "cell_type": "code",
   "execution_count": 7,
   "id": "d0b9fda2",
   "metadata": {},
   "outputs": [
    {
     "data": {
      "text/plain": [
       "<bound method NDFrame.describe of          hhid       pid  wave  year  p_age  p_econstat  p_edu  p_employ_type  \\\n",
       "0           1       101    23  2020     79           3    2.0            NaN   \n",
       "1           1       102    23  2020     52           1    3.0            1.0   \n",
       "2        6034       201    23  2020     69           1    3.0            1.0   \n",
       "3           2       202    23  2020     66           1    3.0            1.0   \n",
       "4        8589       203    23  2020     41           3    5.0            NaN   \n",
       "...       ...       ...   ...   ...    ...         ...    ...            ...   \n",
       "22959  210074  21007402    23  2020     32           3    6.0            NaN   \n",
       "22960  210075  21007502    23  2020     23           3    3.0            NaN   \n",
       "22961  210080  21008002    23  2020     32           1    6.0            1.0   \n",
       "22962  210081  21008102    23  2020     41           1    5.0            2.0   \n",
       "22963  210101  21010102    23  2020     30           1    6.0            1.0   \n",
       "\n",
       "       p_firm_size  p_hours  ...  p_sample18  p_sample98  p_sex p_wage  \\\n",
       "0              NaN      NaN  ...           2           1      2    NaN   \n",
       "1              2.0     40.0  ...           2           1      1  380.0   \n",
       "2              2.0     40.0  ...           1           2      1  150.0   \n",
       "3              1.0     35.0  ...           1           1      2  120.0   \n",
       "4              NaN      NaN  ...           1           2      2    NaN   \n",
       "...            ...      ...  ...         ...         ...    ...    ...   \n",
       "22959          NaN      NaN  ...           2           3      2    NaN   \n",
       "22960          NaN      NaN  ...           2           3      2    NaN   \n",
       "22961          4.0     40.0  ...           2           3      1  530.0   \n",
       "22962          1.0     50.0  ...           2           3      1  450.0   \n",
       "22963          2.0     40.0  ...           2           3      1  150.0   \n",
       "\n",
       "       p_weight09_c  p_weight09_l  p_weight18_c  p_weight18_l  p_weight98_c  \\\n",
       "0         2667.7795     1234.9795    1115.08090        0.0000    2347.81930   \n",
       "1         2734.8757     4626.6772    1171.21970     2500.3066    2347.81930   \n",
       "2         2429.3152     2731.7363    1288.86390     1332.4055    2917.80930   \n",
       "3         4841.4199     5648.7803    2238.85500     2462.2083    2578.34960   \n",
       "4         3167.1360     6758.2446    2137.31880     2048.2651     377.78696   \n",
       "...             ...           ...           ...           ...           ...   \n",
       "22959           NaN           NaN    1724.55320        0.0000           NaN   \n",
       "22960           NaN           NaN    1127.22750        0.0000           NaN   \n",
       "22961           NaN           NaN    1456.11570        0.0000           NaN   \n",
       "22962           NaN           NaN     930.78351        0.0000           NaN   \n",
       "22963           NaN           NaN    2849.59080        0.0000           NaN   \n",
       "\n",
       "       p_weight98_l  \n",
       "0        2281.38430  \n",
       "1        2414.47900  \n",
       "2        2917.94920  \n",
       "3        2578.47310  \n",
       "4         755.61011  \n",
       "...             ...  \n",
       "22959           NaN  \n",
       "22960           NaN  \n",
       "22961           NaN  \n",
       "22962           NaN  \n",
       "22963           NaN  \n",
       "\n",
       "[22964 rows x 34 columns]>"
      ]
     },
     "execution_count": 7,
     "metadata": {},
     "output_type": "execute_result"
    }
   ],
   "source": [
    "labor.describe"
   ]
  },
  {
   "cell_type": "code",
   "execution_count": 9,
   "id": "cd7b7110",
   "metadata": {},
   "outputs": [],
   "source": [
    "labor = labor.rename(\n",
    "    columns = {'p_sex' : 'sex',\n",
    "               'p_age' : 'age',\n",
    "               'p_married': 'marriage_type',\n",
    "               'p_religion': 'religion',\n",
    "               'p_wage' : 'income',\n",
    "               'p_jobfam2017': 'code_job',\n",
    "               'p_region': 'code_region'})"
   ]
  },
  {
   "cell_type": "code",
   "execution_count": 10,
   "id": "afaf8ace",
   "metadata": {},
   "outputs": [
    {
     "data": {
      "text/plain": [
       "dtype('int64')"
      ]
     },
     "execution_count": 10,
     "metadata": {},
     "output_type": "execute_result"
    }
   ],
   "source": [
    "labor['sex'].dtypes"
   ]
  },
  {
   "cell_type": "code",
   "execution_count": 12,
   "id": "e049ab62",
   "metadata": {},
   "outputs": [
    {
     "data": {
      "text/plain": [
       "2    12143\n",
       "1    10821\n",
       "Name: sex, dtype: int64"
      ]
     },
     "execution_count": 12,
     "metadata": {},
     "output_type": "execute_result"
    }
   ],
   "source": [
    "labor['sex'].value_counts()"
   ]
  },
  {
   "cell_type": "code",
   "execution_count": 14,
   "id": "ea85cc8f",
   "metadata": {},
   "outputs": [],
   "source": [
    "labor['sex']=np.where(labor['sex']==1, 'male', 'female')"
   ]
  },
  {
   "cell_type": "code",
   "execution_count": 15,
   "id": "03cb61d6",
   "metadata": {},
   "outputs": [
    {
     "data": {
      "text/plain": [
       "female    12143\n",
       "male      10821\n",
       "Name: sex, dtype: int64"
      ]
     },
     "execution_count": 15,
     "metadata": {},
     "output_type": "execute_result"
    }
   ],
   "source": [
    "labor['sex'].value_counts()"
   ]
  },
  {
   "cell_type": "code",
   "execution_count": 16,
   "id": "8713142d",
   "metadata": {},
   "outputs": [
    {
     "data": {
      "text/plain": [
       "<AxesSubplot:xlabel='sex', ylabel='count'>"
      ]
     },
     "execution_count": 16,
     "metadata": {},
     "output_type": "execute_result"
    },
    {
     "data": {
      "image/png": "[encoded data removed]",
      "text/plain": [
       "<Figure size 432x288 with 1 Axes>"
      ]
     },
     "metadata": {
      "needs_background": "light"
     },
     "output_type": "display_data"
    }
   ],
   "source": [
    "sns.countplot(data= labor, x='sex')"
   ]
  },
  {
   "cell_type": "code",
   "execution_count": 17,
   "id": "c6c16a5f",
   "metadata": {},
   "outputs": [
    {
     "data": {
      "text/plain": [
       "dtype('float64')"
      ]
     },
     "execution_count": 17,
     "metadata": {},
     "output_type": "execute_result"
    }
   ],
   "source": [
    "labor['income'].dtypes"
   ]
  },
  {
   "cell_type": "code",
   "execution_count": 19,
   "id": "111f76ed",
   "metadata": {},
   "outputs": [
    {
     "data": {
      "text/plain": [
       "count    11750.000000\n",
       "mean       277.712681\n",
       "std        293.174292\n",
       "min          0.000000\n",
       "25%        160.000000\n",
       "50%        240.000000\n",
       "75%        350.000000\n",
       "max      20000.000000\n",
       "Name: income, dtype: float64"
      ]
     },
     "execution_count": 19,
     "metadata": {},
     "output_type": "execute_result"
    }
   ],
   "source": [
    "labor['income'].describe()"
   ]
  },
  {
   "cell_type": "code",
   "execution_count": 20,
   "id": "5d72023c",
   "metadata": {},
   "outputs": [
    {
     "data": {
      "text/plain": [
       "<AxesSubplot:xlabel='income', ylabel='Count'>"
      ]
     },
     "execution_count": 20,
     "metadata": {},
     "output_type": "execute_result"
    },
    {
     "data": {
      "image/png": "[encoded data removed]",
      "text/plain": [
       "<Figure size 432x288 with 1 Axes>"
      ]
     },
     "metadata": {
      "needs_background": "light"
     },
     "output_type": "display_data"
    }
   ],
   "source": [
    "sns.histplot(data=labor, x='income')"
   ]
  },
  {
   "cell_type": "code",
   "execution_count": 21,
   "id": "4d5b9008",
   "metadata": {},
   "outputs": [
    {
     "data": {
      "text/plain": [
       "11214"
      ]
     },
     "execution_count": 21,
     "metadata": {},
     "output_type": "execute_result"
    }
   ],
   "source": [
    "labor['income'].isna().sum()"
   ]
  },
  {
   "cell_type": "code",
   "execution_count": 24,
   "id": "6eea08d3",
   "metadata": {},
   "outputs": [],
   "source": [
    "sex_income = labor.dropna(subset=['income']).groupby('sex', as_index=False).agg(mean_income = ('income', 'mean'))"
   ]
  },
  {
   "cell_type": "code",
   "execution_count": 25,
   "id": "f222e2c4",
   "metadata": {},
   "outputs": [
    {
     "data": {
      "text/html": [
       "<div>\n",
       "<style scoped>\n",
       "    .dataframe tbody tr th:only-of-type {\n",
       "        vertical-align: middle;\n",
       "    }\n",
       "\n",
       "    .dataframe tbody tr th {\n",
       "        vertical-align: top;\n",
       "    }\n",
       "\n",
       "    .dataframe thead th {\n",
       "        text-align: right;\n",
       "    }\n",
       "</style>\n",
       "<table border=\"1\" class=\"dataframe\">\n",
       "  <thead>\n",
       "    <tr style=\"text-align: right;\">\n",
       "      <th></th>\n",
       "      <th>sex</th>\n",
       "      <th>mean_income</th>\n",
       "    </tr>\n",
       "  </thead>\n",
       "  <tbody>\n",
       "    <tr>\n",
       "      <th>0</th>\n",
       "      <td>female</td>\n",
       "      <td>199.014142</td>\n",
       "    </tr>\n",
       "    <tr>\n",
       "      <th>1</th>\n",
       "      <td>male</td>\n",
       "      <td>329.567274</td>\n",
       "    </tr>\n",
       "  </tbody>\n",
       "</table>\n",
       "</div>"
      ],
      "text/plain": [
       "      sex  mean_income\n",
       "0  female   199.014142\n",
       "1    male   329.567274"
      ]
     },
     "execution_count": 25,
     "metadata": {},
     "output_type": "execute_result"
    }
   ],
   "source": [
    "sex_income"
   ]
  },
  {
   "cell_type": "code",
   "execution_count": 26,
   "id": "052ec1e9",
   "metadata": {},
   "outputs": [
    {
     "data": {
      "text/plain": [
       "<AxesSubplot:xlabel='sex', ylabel='mean_income'>"
      ]
     },
     "execution_count": 26,
     "metadata": {},
     "output_type": "execute_result"
    },
    {
     "data": {
      "image/png": "[encoded data removed]",
      "text/plain": [
       "<Figure size 432x288 with 1 Axes>"
      ]
     },
     "metadata": {
      "needs_background": "light"
     },
     "output_type": "display_data"
    }
   ],
   "source": [
    "sns.barplot(data=sex_income, x='sex', y='mean_income')"
   ]
  }
 ],
 "metadata": {
  "kernelspec": {
   "display_name": "Python 3 (ipykernel)",
   "language": "python",
   "name": "python3"
  },
  "language_info": {
   "codemirror_mode": {
    "name": "ipython",
    "version": 3
   },
   "file_extension": ".py",
   "mimetype": "text/x-python",
   "name": "python",
   "nbconvert_exporter": "python",
   "pygments_lexer": "ipython3",
   "version": "3.9.7"
  }
 },
 "nbformat": 4,
 "nbformat_minor": 5
}
