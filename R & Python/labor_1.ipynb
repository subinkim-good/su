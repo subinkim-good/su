{
 "cells": [
  {
   "cell_type": "markdown",
   "id": "909d5785",
   "metadata": {},
   "source": [
    "# 한국노동패널(개인용) 23차 데이터 활용하여 분석하기 1"
   ]
  },
  {
   "cell_type": "code",
   "execution_count": 1,
   "id": "07236021",
   "metadata": {},
   "outputs": [],
   "source": [
    "import pandas as pd"
   ]
  },
  {
   "cell_type": "code",
   "execution_count": 2,
   "id": "3872efa8",
   "metadata": {},
   "outputs": [],
   "source": [
    "import numpy as np\n",
    "import seaborn as sns"
   ]
  },
  {
   "cell_type": "code",
   "execution_count": 3,
   "id": "8543254c",
   "metadata": {},
   "outputs": [],
   "source": [
    "# 데이터 불러오기\n",
    "labor = pd.read_csv('labor_220726.csv')"
   ]
  },
  {
   "cell_type": "code",
   "execution_count": 4,
   "id": "bd6647f1",
   "metadata": {},
   "outputs": [
    {
     "data": {
      "text/html": [
       "<div>\n",
       "<style scoped>\n",
       "    .dataframe tbody tr th:only-of-type {\n",
       "        vertical-align: middle;\n",
       "    }\n",
       "\n",
       "    .dataframe tbody tr th {\n",
       "        vertical-align: top;\n",
       "    }\n",
       "\n",
       "    .dataframe thead th {\n",
       "        text-align: right;\n",
       "    }\n",
       "</style>\n",
       "<table border=\"1\" class=\"dataframe\">\n",
       "  <thead>\n",
       "    <tr style=\"text-align: right;\">\n",
       "      <th></th>\n",
       "      <th>hhid</th>\n",
       "      <th>pid</th>\n",
       "      <th>wave</th>\n",
       "      <th>year</th>\n",
       "      <th>p_age</th>\n",
       "      <th>p_econstat</th>\n",
       "      <th>p_edu</th>\n",
       "      <th>p_employ_type</th>\n",
       "      <th>p_firm_size</th>\n",
       "      <th>p_hours</th>\n",
       "      <th>...</th>\n",
       "      <th>p_sample18</th>\n",
       "      <th>p_sample98</th>\n",
       "      <th>p_sex</th>\n",
       "      <th>p_wage</th>\n",
       "      <th>p_weight09_c</th>\n",
       "      <th>p_weight09_l</th>\n",
       "      <th>p_weight18_c</th>\n",
       "      <th>p_weight18_l</th>\n",
       "      <th>p_weight98_c</th>\n",
       "      <th>p_weight98_l</th>\n",
       "    </tr>\n",
       "  </thead>\n",
       "  <tbody>\n",
       "    <tr>\n",
       "      <th>0</th>\n",
       "      <td>1</td>\n",
       "      <td>101</td>\n",
       "      <td>23</td>\n",
       "      <td>2020</td>\n",
       "      <td>79</td>\n",
       "      <td>3</td>\n",
       "      <td>2.0</td>\n",
       "      <td>NaN</td>\n",
       "      <td>NaN</td>\n",
       "      <td>NaN</td>\n",
       "      <td>...</td>\n",
       "      <td>2</td>\n",
       "      <td>1</td>\n",
       "      <td>2</td>\n",
       "      <td>NaN</td>\n",
       "      <td>2667.7795</td>\n",
       "      <td>1234.9795</td>\n",
       "      <td>1115.08090</td>\n",
       "      <td>0.0000</td>\n",
       "      <td>2347.81930</td>\n",
       "      <td>2281.38430</td>\n",
       "    </tr>\n",
       "    <tr>\n",
       "      <th>1</th>\n",
       "      <td>1</td>\n",
       "      <td>102</td>\n",
       "      <td>23</td>\n",
       "      <td>2020</td>\n",
       "      <td>52</td>\n",
       "      <td>1</td>\n",
       "      <td>3.0</td>\n",
       "      <td>1.0</td>\n",
       "      <td>2.0</td>\n",
       "      <td>40.0</td>\n",
       "      <td>...</td>\n",
       "      <td>2</td>\n",
       "      <td>1</td>\n",
       "      <td>1</td>\n",
       "      <td>380.0</td>\n",
       "      <td>2734.8757</td>\n",
       "      <td>4626.6772</td>\n",
       "      <td>1171.21970</td>\n",
       "      <td>2500.3066</td>\n",
       "      <td>2347.81930</td>\n",
       "      <td>2414.47900</td>\n",
       "    </tr>\n",
       "    <tr>\n",
       "      <th>2</th>\n",
       "      <td>6034</td>\n",
       "      <td>201</td>\n",
       "      <td>23</td>\n",
       "      <td>2020</td>\n",
       "      <td>69</td>\n",
       "      <td>1</td>\n",
       "      <td>3.0</td>\n",
       "      <td>1.0</td>\n",
       "      <td>2.0</td>\n",
       "      <td>40.0</td>\n",
       "      <td>...</td>\n",
       "      <td>1</td>\n",
       "      <td>2</td>\n",
       "      <td>1</td>\n",
       "      <td>150.0</td>\n",
       "      <td>2429.3152</td>\n",
       "      <td>2731.7363</td>\n",
       "      <td>1288.86390</td>\n",
       "      <td>1332.4055</td>\n",
       "      <td>2917.80930</td>\n",
       "      <td>2917.94920</td>\n",
       "    </tr>\n",
       "    <tr>\n",
       "      <th>3</th>\n",
       "      <td>2</td>\n",
       "      <td>202</td>\n",
       "      <td>23</td>\n",
       "      <td>2020</td>\n",
       "      <td>66</td>\n",
       "      <td>1</td>\n",
       "      <td>3.0</td>\n",
       "      <td>1.0</td>\n",
       "      <td>1.0</td>\n",
       "      <td>35.0</td>\n",
       "      <td>...</td>\n",
       "      <td>1</td>\n",
       "      <td>1</td>\n",
       "      <td>2</td>\n",
       "      <td>120.0</td>\n",
       "      <td>4841.4199</td>\n",
       "      <td>5648.7803</td>\n",
       "      <td>2238.85500</td>\n",
       "      <td>2462.2083</td>\n",
       "      <td>2578.34960</td>\n",
       "      <td>2578.47310</td>\n",
       "    </tr>\n",
       "    <tr>\n",
       "      <th>4</th>\n",
       "      <td>8589</td>\n",
       "      <td>203</td>\n",
       "      <td>23</td>\n",
       "      <td>2020</td>\n",
       "      <td>41</td>\n",
       "      <td>3</td>\n",
       "      <td>5.0</td>\n",
       "      <td>NaN</td>\n",
       "      <td>NaN</td>\n",
       "      <td>NaN</td>\n",
       "      <td>...</td>\n",
       "      <td>1</td>\n",
       "      <td>2</td>\n",
       "      <td>2</td>\n",
       "      <td>NaN</td>\n",
       "      <td>3167.1360</td>\n",
       "      <td>6758.2446</td>\n",
       "      <td>2137.31880</td>\n",
       "      <td>2048.2651</td>\n",
       "      <td>377.78696</td>\n",
       "      <td>755.61011</td>\n",
       "    </tr>\n",
       "    <tr>\n",
       "      <th>...</th>\n",
       "      <td>...</td>\n",
       "      <td>...</td>\n",
       "      <td>...</td>\n",
       "      <td>...</td>\n",
       "      <td>...</td>\n",
       "      <td>...</td>\n",
       "      <td>...</td>\n",
       "      <td>...</td>\n",
       "      <td>...</td>\n",
       "      <td>...</td>\n",
       "      <td>...</td>\n",
       "      <td>...</td>\n",
       "      <td>...</td>\n",
       "      <td>...</td>\n",
       "      <td>...</td>\n",
       "      <td>...</td>\n",
       "      <td>...</td>\n",
       "      <td>...</td>\n",
       "      <td>...</td>\n",
       "      <td>...</td>\n",
       "      <td>...</td>\n",
       "    </tr>\n",
       "    <tr>\n",
       "      <th>22959</th>\n",
       "      <td>210074</td>\n",
       "      <td>21007402</td>\n",
       "      <td>23</td>\n",
       "      <td>2020</td>\n",
       "      <td>32</td>\n",
       "      <td>3</td>\n",
       "      <td>6.0</td>\n",
       "      <td>NaN</td>\n",
       "      <td>NaN</td>\n",
       "      <td>NaN</td>\n",
       "      <td>...</td>\n",
       "      <td>2</td>\n",
       "      <td>3</td>\n",
       "      <td>2</td>\n",
       "      <td>NaN</td>\n",
       "      <td>NaN</td>\n",
       "      <td>NaN</td>\n",
       "      <td>1724.55320</td>\n",
       "      <td>0.0000</td>\n",
       "      <td>NaN</td>\n",
       "      <td>NaN</td>\n",
       "    </tr>\n",
       "    <tr>\n",
       "      <th>22960</th>\n",
       "      <td>210075</td>\n",
       "      <td>21007502</td>\n",
       "      <td>23</td>\n",
       "      <td>2020</td>\n",
       "      <td>23</td>\n",
       "      <td>3</td>\n",
       "      <td>3.0</td>\n",
       "      <td>NaN</td>\n",
       "      <td>NaN</td>\n",
       "      <td>NaN</td>\n",
       "      <td>...</td>\n",
       "      <td>2</td>\n",
       "      <td>3</td>\n",
       "      <td>2</td>\n",
       "      <td>NaN</td>\n",
       "      <td>NaN</td>\n",
       "      <td>NaN</td>\n",
       "      <td>1127.22750</td>\n",
       "      <td>0.0000</td>\n",
       "      <td>NaN</td>\n",
       "      <td>NaN</td>\n",
       "    </tr>\n",
       "    <tr>\n",
       "      <th>22961</th>\n",
       "      <td>210080</td>\n",
       "      <td>21008002</td>\n",
       "      <td>23</td>\n",
       "      <td>2020</td>\n",
       "      <td>32</td>\n",
       "      <td>1</td>\n",
       "      <td>6.0</td>\n",
       "      <td>1.0</td>\n",
       "      <td>4.0</td>\n",
       "      <td>40.0</td>\n",
       "      <td>...</td>\n",
       "      <td>2</td>\n",
       "      <td>3</td>\n",
       "      <td>1</td>\n",
       "      <td>530.0</td>\n",
       "      <td>NaN</td>\n",
       "      <td>NaN</td>\n",
       "      <td>1456.11570</td>\n",
       "      <td>0.0000</td>\n",
       "      <td>NaN</td>\n",
       "      <td>NaN</td>\n",
       "    </tr>\n",
       "    <tr>\n",
       "      <th>22962</th>\n",
       "      <td>210081</td>\n",
       "      <td>21008102</td>\n",
       "      <td>23</td>\n",
       "      <td>2020</td>\n",
       "      <td>41</td>\n",
       "      <td>1</td>\n",
       "      <td>5.0</td>\n",
       "      <td>2.0</td>\n",
       "      <td>1.0</td>\n",
       "      <td>50.0</td>\n",
       "      <td>...</td>\n",
       "      <td>2</td>\n",
       "      <td>3</td>\n",
       "      <td>1</td>\n",
       "      <td>450.0</td>\n",
       "      <td>NaN</td>\n",
       "      <td>NaN</td>\n",
       "      <td>930.78351</td>\n",
       "      <td>0.0000</td>\n",
       "      <td>NaN</td>\n",
       "      <td>NaN</td>\n",
       "    </tr>\n",
       "    <tr>\n",
       "      <th>22963</th>\n",
       "      <td>210101</td>\n",
       "      <td>21010102</td>\n",
       "      <td>23</td>\n",
       "      <td>2020</td>\n",
       "      <td>30</td>\n",
       "      <td>1</td>\n",
       "      <td>6.0</td>\n",
       "      <td>1.0</td>\n",
       "      <td>2.0</td>\n",
       "      <td>40.0</td>\n",
       "      <td>...</td>\n",
       "      <td>2</td>\n",
       "      <td>3</td>\n",
       "      <td>1</td>\n",
       "      <td>150.0</td>\n",
       "      <td>NaN</td>\n",
       "      <td>NaN</td>\n",
       "      <td>2849.59080</td>\n",
       "      <td>0.0000</td>\n",
       "      <td>NaN</td>\n",
       "      <td>NaN</td>\n",
       "    </tr>\n",
       "  </tbody>\n",
       "</table>\n",
       "<p>22964 rows × 34 columns</p>\n",
       "</div>"
      ],
      "text/plain": [
       "         hhid       pid  wave  year  p_age  p_econstat  p_edu  p_employ_type  \\\n",
       "0           1       101    23  2020     79           3    2.0            NaN   \n",
       "1           1       102    23  2020     52           1    3.0            1.0   \n",
       "2        6034       201    23  2020     69           1    3.0            1.0   \n",
       "3           2       202    23  2020     66           1    3.0            1.0   \n",
       "4        8589       203    23  2020     41           3    5.0            NaN   \n",
       "...       ...       ...   ...   ...    ...         ...    ...            ...   \n",
       "22959  210074  21007402    23  2020     32           3    6.0            NaN   \n",
       "22960  210075  21007502    23  2020     23           3    3.0            NaN   \n",
       "22961  210080  21008002    23  2020     32           1    6.0            1.0   \n",
       "22962  210081  21008102    23  2020     41           1    5.0            2.0   \n",
       "22963  210101  21010102    23  2020     30           1    6.0            1.0   \n",
       "\n",
       "       p_firm_size  p_hours  ...  p_sample18  p_sample98  p_sex p_wage  \\\n",
       "0              NaN      NaN  ...           2           1      2    NaN   \n",
       "1              2.0     40.0  ...           2           1      1  380.0   \n",
       "2              2.0     40.0  ...           1           2      1  150.0   \n",
       "3              1.0     35.0  ...           1           1      2  120.0   \n",
       "4              NaN      NaN  ...           1           2      2    NaN   \n",
       "...            ...      ...  ...         ...         ...    ...    ...   \n",
       "22959          NaN      NaN  ...           2           3      2    NaN   \n",
       "22960          NaN      NaN  ...           2           3      2    NaN   \n",
       "22961          4.0     40.0  ...           2           3      1  530.0   \n",
       "22962          1.0     50.0  ...           2           3      1  450.0   \n",
       "22963          2.0     40.0  ...           2           3      1  150.0   \n",
       "\n",
       "       p_weight09_c  p_weight09_l  p_weight18_c  p_weight18_l  p_weight98_c  \\\n",
       "0         2667.7795     1234.9795    1115.08090        0.0000    2347.81930   \n",
       "1         2734.8757     4626.6772    1171.21970     2500.3066    2347.81930   \n",
       "2         2429.3152     2731.7363    1288.86390     1332.4055    2917.80930   \n",
       "3         4841.4199     5648.7803    2238.85500     2462.2083    2578.34960   \n",
       "4         3167.1360     6758.2446    2137.31880     2048.2651     377.78696   \n",
       "...             ...           ...           ...           ...           ...   \n",
       "22959           NaN           NaN    1724.55320        0.0000           NaN   \n",
       "22960           NaN           NaN    1127.22750        0.0000           NaN   \n",
       "22961           NaN           NaN    1456.11570        0.0000           NaN   \n",
       "22962           NaN           NaN     930.78351        0.0000           NaN   \n",
       "22963           NaN           NaN    2849.59080        0.0000           NaN   \n",
       "\n",
       "       p_weight98_l  \n",
       "0        2281.38430  \n",
       "1        2414.47900  \n",
       "2        2917.94920  \n",
       "3        2578.47310  \n",
       "4         755.61011  \n",
       "...             ...  \n",
       "22959           NaN  \n",
       "22960           NaN  \n",
       "22961           NaN  \n",
       "22962           NaN  \n",
       "22963           NaN  \n",
       "\n",
       "[22964 rows x 34 columns]"
      ]
     },
     "execution_count": 4,
     "metadata": {},
     "output_type": "execute_result"
    }
   ],
   "source": [
    "labor"
   ]
  },
  {
   "cell_type": "code",
   "execution_count": 5,
   "id": "eb419017",
   "metadata": {},
   "outputs": [
    {
     "data": {
      "text/plain": [
       "(22964, 34)"
      ]
     },
     "execution_count": 5,
     "metadata": {},
     "output_type": "execute_result"
    }
   ],
   "source": [
    "labor.shape # 행, 열 개수 출력"
   ]
  },
  {
   "cell_type": "code",
   "execution_count": 6,
   "id": "5e6793e2",
   "metadata": {},
   "outputs": [
    {
     "name": "stdout",
     "output_type": "stream",
     "text": [
      "<class 'pandas.core.frame.DataFrame'>\n",
      "RangeIndex: 22964 entries, 0 to 22963\n",
      "Data columns (total 34 columns):\n",
      " #   Column         Non-Null Count  Dtype  \n",
      "---  ------         --------------  -----  \n",
      " 0   hhid           22964 non-null  int64  \n",
      " 1   pid            22964 non-null  int64  \n",
      " 2   wave           22964 non-null  int64  \n",
      " 3   year           22964 non-null  int64  \n",
      " 4   p_age          22964 non-null  int64  \n",
      " 5   p_econstat     22964 non-null  int64  \n",
      " 6   p_edu          22961 non-null  float64\n",
      " 7   p_employ_type  12464 non-null  float64\n",
      " 8   p_firm_size    8000 non-null   float64\n",
      " 9   p_hours        12429 non-null  float64\n",
      " 10  p_ind2000      12410 non-null  float64\n",
      " 11  p_ind2007      12410 non-null  float64\n",
      " 12  p_ind2017      12410 non-null  float64\n",
      " 13  p_job_begin    12346 non-null  object \n",
      " 14  p_job_status   12436 non-null  float64\n",
      " 15  p_jobfam2000   12423 non-null  float64\n",
      " 16  p_jobfam2007   12327 non-null  float64\n",
      " 17  p_jobfam2017   12324 non-null  float64\n",
      " 18  p_jobtype      12436 non-null  float64\n",
      " 19  p_married      22964 non-null  int64  \n",
      " 20  p_region       22964 non-null  int64  \n",
      " 21  p_rel          22964 non-null  int64  \n",
      " 22  p_religion     22956 non-null  float64\n",
      " 23  p_sample09     22964 non-null  int64  \n",
      " 24  p_sample18     22964 non-null  int64  \n",
      " 25  p_sample98     22964 non-null  int64  \n",
      " 26  p_sex          22964 non-null  int64  \n",
      " 27  p_wage         11750 non-null  float64\n",
      " 28  p_weight09_c   13577 non-null  float64\n",
      " 29  p_weight09_l   13577 non-null  float64\n",
      " 30  p_weight18_c   22713 non-null  float64\n",
      " 31  p_weight18_l   22713 non-null  float64\n",
      " 32  p_weight98_c   11830 non-null  float64\n",
      " 33  p_weight98_l   11830 non-null  float64\n",
      "dtypes: float64(20), int64(13), object(1)\n",
      "memory usage: 6.0+ MB\n"
     ]
    }
   ],
   "source": [
    "labor.info() # 변수 속성 출력"
   ]
  },
  {
   "cell_type": "code",
   "execution_count": 7,
   "id": "d0b9fda2",
   "metadata": {},
   "outputs": [
    {
     "data": {
      "text/plain": [
       "<bound method NDFrame.describe of          hhid       pid  wave  year  p_age  p_econstat  p_edu  p_employ_type  \\\n",
       "0           1       101    23  2020     79           3    2.0            NaN   \n",
       "1           1       102    23  2020     52           1    3.0            1.0   \n",
       "2        6034       201    23  2020     69           1    3.0            1.0   \n",
       "3           2       202    23  2020     66           1    3.0            1.0   \n",
       "4        8589       203    23  2020     41           3    5.0            NaN   \n",
       "...       ...       ...   ...   ...    ...         ...    ...            ...   \n",
       "22959  210074  21007402    23  2020     32           3    6.0            NaN   \n",
       "22960  210075  21007502    23  2020     23           3    3.0            NaN   \n",
       "22961  210080  21008002    23  2020     32           1    6.0            1.0   \n",
       "22962  210081  21008102    23  2020     41           1    5.0            2.0   \n",
       "22963  210101  21010102    23  2020     30           1    6.0            1.0   \n",
       "\n",
       "       p_firm_size  p_hours  ...  p_sample18  p_sample98  p_sex p_wage  \\\n",
       "0              NaN      NaN  ...           2           1      2    NaN   \n",
       "1              2.0     40.0  ...           2           1      1  380.0   \n",
       "2              2.0     40.0  ...           1           2      1  150.0   \n",
       "3              1.0     35.0  ...           1           1      2  120.0   \n",
       "4              NaN      NaN  ...           1           2      2    NaN   \n",
       "...            ...      ...  ...         ...         ...    ...    ...   \n",
       "22959          NaN      NaN  ...           2           3      2    NaN   \n",
       "22960          NaN      NaN  ...           2           3      2    NaN   \n",
       "22961          4.0     40.0  ...           2           3      1  530.0   \n",
       "22962          1.0     50.0  ...           2           3      1  450.0   \n",
       "22963          2.0     40.0  ...           2           3      1  150.0   \n",
       "\n",
       "       p_weight09_c  p_weight09_l  p_weight18_c  p_weight18_l  p_weight98_c  \\\n",
       "0         2667.7795     1234.9795    1115.08090        0.0000    2347.81930   \n",
       "1         2734.8757     4626.6772    1171.21970     2500.3066    2347.81930   \n",
       "2         2429.3152     2731.7363    1288.86390     1332.4055    2917.80930   \n",
       "3         4841.4199     5648.7803    2238.85500     2462.2083    2578.34960   \n",
       "4         3167.1360     6758.2446    2137.31880     2048.2651     377.78696   \n",
       "...             ...           ...           ...           ...           ...   \n",
       "22959           NaN           NaN    1724.55320        0.0000           NaN   \n",
       "22960           NaN           NaN    1127.22750        0.0000           NaN   \n",
       "22961           NaN           NaN    1456.11570        0.0000           NaN   \n",
       "22962           NaN           NaN     930.78351        0.0000           NaN   \n",
       "22963           NaN           NaN    2849.59080        0.0000           NaN   \n",
       "\n",
       "       p_weight98_l  \n",
       "0        2281.38430  \n",
       "1        2414.47900  \n",
       "2        2917.94920  \n",
       "3        2578.47310  \n",
       "4         755.61011  \n",
       "...             ...  \n",
       "22959           NaN  \n",
       "22960           NaN  \n",
       "22961           NaN  \n",
       "22962           NaN  \n",
       "22963           NaN  \n",
       "\n",
       "[22964 rows x 34 columns]>"
      ]
     },
     "execution_count": 7,
     "metadata": {},
     "output_type": "execute_result"
    }
   ],
   "source": [
    "labor.describe # 요약 통계량"
   ]
  },
  {
   "cell_type": "code",
   "execution_count": 8,
   "id": "cd7b7110",
   "metadata": {},
   "outputs": [],
   "source": [
    "# 변수 이름 바꾸기\n",
    "labor = labor.rename(\n",
    "    columns = {'p_sex' : 'sex',\n",
    "               'p_age' : 'age',\n",
    "               'p_married': 'marriage_type',\n",
    "               'p_religion': 'religion',\n",
    "               'p_wage' : 'income',\n",
    "               'p_jobfam2017': 'code_job',\n",
    "               'p_region': 'code_region'})"
   ]
  },
  {
   "cell_type": "markdown",
   "id": "1f0f44ec",
   "metadata": {},
   "source": [
    "## 1. 성별에 따른 월급차이 "
   ]
  },
  {
   "cell_type": "markdown",
   "id": "63549372",
   "metadata": {},
   "source": [
    "### 1) 성별"
   ]
  },
  {
   "cell_type": "code",
   "execution_count": 9,
   "id": "afaf8ace",
   "metadata": {},
   "outputs": [
    {
     "data": {
      "text/plain": [
       "dtype('int64')"
      ]
     },
     "execution_count": 9,
     "metadata": {},
     "output_type": "execute_result"
    }
   ],
   "source": [
    "labor['sex'].dtypes # 성별 변수 타입 출력"
   ]
  },
  {
   "cell_type": "code",
   "execution_count": 10,
   "id": "e049ab62",
   "metadata": {},
   "outputs": [
    {
     "data": {
      "text/plain": [
       "2    12143\n",
       "1    10821\n",
       "Name: sex, dtype: int64"
      ]
     },
     "execution_count": 10,
     "metadata": {},
     "output_type": "execute_result"
    }
   ],
   "source": [
    "labor['sex'].value_counts() # 빈도 구하기"
   ]
  },
  {
   "cell_type": "code",
   "execution_count": 11,
   "id": "ea85cc8f",
   "metadata": {},
   "outputs": [],
   "source": [
    "labor['sex']=np.where(labor['sex']==1, 'male', 'female') # 성별 항목 이름 부여"
   ]
  },
  {
   "cell_type": "code",
   "execution_count": 12,
   "id": "03cb61d6",
   "metadata": {},
   "outputs": [
    {
     "data": {
      "text/plain": [
       "female    12143\n",
       "male      10821\n",
       "Name: sex, dtype: int64"
      ]
     },
     "execution_count": 12,
     "metadata": {},
     "output_type": "execute_result"
    }
   ],
   "source": [
    "labor['sex'].value_counts() # 빈도 구하기"
   ]
  },
  {
   "cell_type": "code",
   "execution_count": 13,
   "id": "8713142d",
   "metadata": {},
   "outputs": [
    {
     "data": {
      "text/plain": [
       "<AxesSubplot:xlabel='sex', ylabel='count'>"
      ]
     },
     "execution_count": 13,
     "metadata": {},
     "output_type": "execute_result"
    },
    {
     "data": {
      "image/png": "[encoded data removed]",
      "text/plain": [
       "<Figure size 432x288 with 1 Axes>"
      ]
     },
     "metadata": {
      "needs_background": "light"
     },
     "output_type": "display_data"
    }
   ],
   "source": [
    "sns.countplot(data= labor, x='sex') # 빈도 막대 그래프 만들기"
   ]
  },
  {
   "cell_type": "markdown",
   "id": "550932a4",
   "metadata": {},
   "source": [
    "### 2) 월급"
   ]
  },
  {
   "cell_type": "code",
   "execution_count": 14,
   "id": "c6c16a5f",
   "metadata": {},
   "outputs": [
    {
     "data": {
      "text/plain": [
       "dtype('float64')"
      ]
     },
     "execution_count": 14,
     "metadata": {},
     "output_type": "execute_result"
    }
   ],
   "source": [
    "labor['income'].dtypes # 월급 변수 타입 출력"
   ]
  },
  {
   "cell_type": "code",
   "execution_count": 15,
   "id": "111f76ed",
   "metadata": {},
   "outputs": [
    {
     "data": {
      "text/plain": [
       "count    11750.000000\n",
       "mean       277.712681\n",
       "std        293.174292\n",
       "min          0.000000\n",
       "25%        160.000000\n",
       "50%        240.000000\n",
       "75%        350.000000\n",
       "max      20000.000000\n",
       "Name: income, dtype: float64"
      ]
     },
     "execution_count": 15,
     "metadata": {},
     "output_type": "execute_result"
    }
   ],
   "source": [
    "labor['income'].describe() # 요약 통계량"
   ]
  },
  {
   "cell_type": "code",
   "execution_count": 16,
   "id": "5d72023c",
   "metadata": {},
   "outputs": [
    {
     "data": {
      "text/plain": [
       "<AxesSubplot:xlabel='income', ylabel='Count'>"
      ]
     },
     "execution_count": 16,
     "metadata": {},
     "output_type": "execute_result"
    },
    {
     "data": {
      "image/png": "[encoded data removed]",
      "text/plain": [
       "<Figure size 432x288 with 1 Axes>"
      ]
     },
     "metadata": {
      "needs_background": "light"
     },
     "output_type": "display_data"
    }
   ],
   "source": [
    "sns.histplot(data=labor, x='income') # 히스토그램"
   ]
  },
  {
   "cell_type": "code",
   "execution_count": 17,
   "id": "4d5b9008",
   "metadata": {},
   "outputs": [
    {
     "data": {
      "text/plain": [
       "11214"
      ]
     },
     "execution_count": 17,
     "metadata": {},
     "output_type": "execute_result"
    }
   ],
   "source": [
    "labor['income'].isna().sum() # 결측치 확인"
   ]
  },
  {
   "cell_type": "markdown",
   "id": "c1a81d51",
   "metadata": {},
   "source": [
    "### 3) 성별에 따른 월급 차이"
   ]
  },
  {
   "cell_type": "code",
   "execution_count": 18,
   "id": "6eea08d3",
   "metadata": {},
   "outputs": [],
   "source": [
    "sex_income = labor.dropna(subset=['income']).groupby('sex', as_index=False).agg(mean_income = ('income', 'mean')) \n",
    "# 결측치 처리, 성별 구분, 월급 평균"
   ]
  },
  {
   "cell_type": "code",
   "execution_count": 19,
   "id": "f222e2c4",
   "metadata": {},
   "outputs": [
    {
     "data": {
      "text/html": [
       "<div>\n",
       "<style scoped>\n",
       "    .dataframe tbody tr th:only-of-type {\n",
       "        vertical-align: middle;\n",
       "    }\n",
       "\n",
       "    .dataframe tbody tr th {\n",
       "        vertical-align: top;\n",
       "    }\n",
       "\n",
       "    .dataframe thead th {\n",
       "        text-align: right;\n",
       "    }\n",
       "</style>\n",
       "<table border=\"1\" class=\"dataframe\">\n",
       "  <thead>\n",
       "    <tr style=\"text-align: right;\">\n",
       "      <th></th>\n",
       "      <th>sex</th>\n",
       "      <th>mean_income</th>\n",
       "    </tr>\n",
       "  </thead>\n",
       "  <tbody>\n",
       "    <tr>\n",
       "      <th>0</th>\n",
       "      <td>female</td>\n",
       "      <td>199.014142</td>\n",
       "    </tr>\n",
       "    <tr>\n",
       "      <th>1</th>\n",
       "      <td>male</td>\n",
       "      <td>329.567274</td>\n",
       "    </tr>\n",
       "  </tbody>\n",
       "</table>\n",
       "</div>"
      ],
      "text/plain": [
       "      sex  mean_income\n",
       "0  female   199.014142\n",
       "1    male   329.567274"
      ]
     },
     "execution_count": 19,
     "metadata": {},
     "output_type": "execute_result"
    }
   ],
   "source": [
    "sex_income"
   ]
  },
  {
   "cell_type": "code",
   "execution_count": 20,
   "id": "052ec1e9",
   "metadata": {},
   "outputs": [
    {
     "data": {
      "text/plain": [
       "<AxesSubplot:xlabel='sex', ylabel='mean_income'>"
      ]
     },
     "execution_count": 20,
     "metadata": {},
     "output_type": "execute_result"
    },
    {
     "data": {
      "image/png": "[encoded data removed]",
      "text/plain": [
       "<Figure size 432x288 with 1 Axes>"
      ]
     },
     "metadata": {
      "needs_background": "light"
     },
     "output_type": "display_data"
    }
   ],
   "source": [
    "sns.barplot(data=sex_income, x='sex', y='mean_income') # 막대 그래프 만들기"
   ]
  },
  {
   "cell_type": "markdown",
   "id": "49a0d6ac",
   "metadata": {},
   "source": [
    "## 2. 나이와 월급의 관계"
   ]
  },
  {
   "cell_type": "markdown",
   "id": "b132e2a1",
   "metadata": {},
   "source": [
    "### 1) 나이"
   ]
  },
  {
   "cell_type": "code",
   "execution_count": 21,
   "id": "443fce14",
   "metadata": {},
   "outputs": [
    {
     "data": {
      "text/plain": [
       "dtype('int64')"
      ]
     },
     "execution_count": 21,
     "metadata": {},
     "output_type": "execute_result"
    }
   ],
   "source": [
    "labor['age'].dtypes # 나이 변수 타입"
   ]
  },
  {
   "cell_type": "code",
   "execution_count": 22,
   "id": "e2f3e072",
   "metadata": {},
   "outputs": [
    {
     "data": {
      "text/plain": [
       "count    22964.000000\n",
       "mean        51.935638\n",
       "std         18.939084\n",
       "min         15.000000\n",
       "25%         38.000000\n",
       "50%         52.000000\n",
       "75%         67.000000\n",
       "max        104.000000\n",
       "Name: age, dtype: float64"
      ]
     },
     "execution_count": 22,
     "metadata": {},
     "output_type": "execute_result"
    }
   ],
   "source": [
    "labor['age'].describe() # 요약 통계량 구하기"
   ]
  },
  {
   "cell_type": "code",
   "execution_count": 23,
   "id": "36d63baa",
   "metadata": {},
   "outputs": [
    {
     "data": {
      "text/plain": [
       "<AxesSubplot:xlabel='age', ylabel='Count'>"
      ]
     },
     "execution_count": 23,
     "metadata": {},
     "output_type": "execute_result"
    },
    {
     "data": {
      "image/png": "[encoded data removed]",
      "text/plain": [
       "<Figure size 432x288 with 1 Axes>"
      ]
     },
     "metadata": {
      "needs_background": "light"
     },
     "output_type": "display_data"
    }
   ],
   "source": [
    "sns.histplot(data=labor, x='age') # 히스토그램"
   ]
  },
  {
   "cell_type": "code",
   "execution_count": 25,
   "id": "16077201",
   "metadata": {},
   "outputs": [
    {
     "data": {
      "text/plain": [
       "0"
      ]
     },
     "execution_count": 25,
     "metadata": {},
     "output_type": "execute_result"
    }
   ],
   "source": [
    "labor['age'].isna().sum() # 결측치 확인"
   ]
  },
  {
   "cell_type": "markdown",
   "id": "531c39fe",
   "metadata": {},
   "source": [
    "### 2) 나이별 월급"
   ]
  },
  {
   "cell_type": "code",
   "execution_count": 26,
   "id": "6b97cc20",
   "metadata": {},
   "outputs": [],
   "source": [
    "# 나이별 월급 표\n",
    "age_income = labor.dropna(subset=['income']).groupby('age').agg(mean_income = ('income', 'mean'))"
   ]
  },
  {
   "cell_type": "code",
   "execution_count": 27,
   "id": "29743718",
   "metadata": {},
   "outputs": [
    {
     "data": {
      "text/html": [
       "<div>\n",
       "<style scoped>\n",
       "    .dataframe tbody tr th:only-of-type {\n",
       "        vertical-align: middle;\n",
       "    }\n",
       "\n",
       "    .dataframe tbody tr th {\n",
       "        vertical-align: top;\n",
       "    }\n",
       "\n",
       "    .dataframe thead th {\n",
       "        text-align: right;\n",
       "    }\n",
       "</style>\n",
       "<table border=\"1\" class=\"dataframe\">\n",
       "  <thead>\n",
       "    <tr style=\"text-align: right;\">\n",
       "      <th></th>\n",
       "      <th>mean_income</th>\n",
       "    </tr>\n",
       "    <tr>\n",
       "      <th>age</th>\n",
       "      <th></th>\n",
       "    </tr>\n",
       "  </thead>\n",
       "  <tbody>\n",
       "    <tr>\n",
       "      <th>17</th>\n",
       "      <td>57.500000</td>\n",
       "    </tr>\n",
       "    <tr>\n",
       "      <th>18</th>\n",
       "      <td>130.000000</td>\n",
       "    </tr>\n",
       "    <tr>\n",
       "      <th>19</th>\n",
       "      <td>123.285714</td>\n",
       "    </tr>\n",
       "    <tr>\n",
       "      <th>20</th>\n",
       "      <td>111.694444</td>\n",
       "    </tr>\n",
       "    <tr>\n",
       "      <th>21</th>\n",
       "      <td>136.794118</td>\n",
       "    </tr>\n",
       "  </tbody>\n",
       "</table>\n",
       "</div>"
      ],
      "text/plain": [
       "     mean_income\n",
       "age             \n",
       "17     57.500000\n",
       "18    130.000000\n",
       "19    123.285714\n",
       "20    111.694444\n",
       "21    136.794118"
      ]
     },
     "execution_count": 27,
     "metadata": {},
     "output_type": "execute_result"
    }
   ],
   "source": [
    "age_income.head()"
   ]
  },
  {
   "cell_type": "code",
   "execution_count": 29,
   "id": "c8916e09",
   "metadata": {},
   "outputs": [
    {
     "data": {
      "text/plain": [
       "<AxesSubplot:xlabel='age', ylabel='mean_income'>"
      ]
     },
     "execution_count": 29,
     "metadata": {},
     "output_type": "execute_result"
    },
    {
     "data": {
      "image/png": "[encoded data removed]",
      "text/plain": [
       "<Figure size 432x288 with 1 Axes>"
      ]
     },
     "metadata": {
      "needs_background": "light"
     },
     "output_type": "display_data"
    }
   ],
   "source": [
    "sns.lineplot(data=age_income, x = 'age', y='mean_income') # 선 그래프"
   ]
  },
  {
   "cell_type": "code",
   "execution_count": null,
   "id": "4a4f049c",
   "metadata": {},
   "outputs": [],
   "source": []
  }
 ],
 "metadata": {
  "kernelspec": {
   "display_name": "Python 3 (ipykernel)",
   "language": "python",
   "name": "python3"
  },
  "language_info": {
   "codemirror_mode": {
    "name": "ipython",
    "version": 3
   },
   "file_extension": ".py",
   "mimetype": "text/x-python",
   "name": "python",
   "nbconvert_exporter": "python",
   "pygments_lexer": "ipython3",
   "version": "3.9.7"
  }
 },
 "nbformat": 4,
 "nbformat_minor": 5
}
